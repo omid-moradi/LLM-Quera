{
  "cells": [
    {
      "cell_type": "markdown",
      "metadata": {
        "id": "ygtRNevdyQ1Y"
      },
      "source": [
        "<h1 dir=rtl align=center style=\"line-height:200%;font-family:vazir;color:#0099cc\">\n",
        "<font face=\"vazir\" color=\"#0099cc\">\n",
        "LibreChat\n",
        "</font>\n",
        "</h1>\n",
        "\n",
        "<p dir=rtl style=\"direction: rtl; text-align: justify; line-height:200%; font-family:vazir; font-size:medium\">\n",
        "<font face=\"vazir\" size=3>\n",
        "در این پروژه می‌خواهیم به بهانه‌ی مروری بر فصل‌های پیشین به طراحی یک ربات گفت‌وگو بپردازیم که براساس داده‌هایی که از منابع مختلف همچون فایل‌های <code>PDF</code> / <code>Epub</code>، صفحات ویکی‌پدیا، وب‌سایت‌ها و غیره جمع‌آوری می‌شوند به پرسش‌های کاربران پاسخ می‌دهد. این داده‌ها به فلسفه‌ی لینوکس، نرم‌افزار آزاد و چهره‌های بزرگی که در آن نقش داشته‌اند مربوط هستند و به همین دلیل نام لیبره‌چت (LibreChat) را برای آن انتخاب کرده‌ایم.\n",
        "<br>\n",
        "همان‌طور که احتمالاً خودتان حدس زده‌اید برای طراحی چنین رباتی نیاز است که یک معماری RAG را پیاده‌سازی کنید. با این حال، انتخاب و اختیار تمام جزئیات و گام‌های آن بر عهده‌ی خودتان است. مهم این است که مدل شما در نهایت بتواند به تعداد خوبی از پرسش‌هایی که در نظر گرفته‌ایم به‌درستی پاسخ دهد. برای آن‌که نتایج به‌دست‌آمده قابل داوری خودکار باشند خروجی‌های مدل نیاز است به‌شکل یک سری عبارات تک یا چند کلمه‌ای تجزیه و ساختاریافته شوند. در بخش تولید خروجی در این‌باره بیشتر صحبت خواهیم کرد و قالب مورد انتظار را شرح خواهیم داد.\n",
        "</font>\n",
        "</p>"
      ]
    },
    {
      "cell_type": "markdown",
      "metadata": {
        "id": "qfql4EtgyQ1c"
      },
      "source": [
        "<h2 dir=rtl align=right style=\"line-height:200%;font-family:vazir;color:#0099cc\">\n",
        "<font face=\"vazir\" color=\"#0099cc\">\n",
        "بارگیری داده‌ها\n",
        "</font>\n",
        "</h2>\n",
        "\n",
        "<p dir=rtl style=\"direction: rtl; text-align: justify; line-height:200%; font-family:vazir; font-size:medium\">\n",
        "<font face=\"vazir\">\n",
        "همان‌طور که اشاره شد در این پروژه قصد داریم از داده‌هایی با انواع متفاوت و از منابع گوناگون استفاده کنیم. بنابراین در ابتدا نیاز است به‌کمک توابع <code>LangChain</code> متناسب با هر نوع داده نسبت به خوانش ‌آن‌ها اقدام کنید تا تمام داده‌ها به‌شکل سند (<code>Document</code>) در بیایند و بتوانید آن‌ها را مشابه با همدیگر مدیریت کنید. در ادامه داده‌های مورد نیاز این پروژه را با توجه به نوع‌شان تفکیک کرده و ماهیت و منبع آن‌ها را شرح داده‌ایم.\n",
        "</font>\n",
        "</p>"
      ]
    },
    {
      "cell_type": "markdown",
      "metadata": {
        "id": "hgNqNQR7yQ1d"
      },
      "source": [
        "<h3 dir=rtl align=right style=\"line-height:200%;font-family:vazir;color:#0099cc\">\n",
        "<font face=\"vazir\" color=\"#0099cc\">\n",
        "فایل <code>PDF</code>\n",
        "</font>\n",
        "</h3>\n",
        "\n",
        "<p dir=rtl style=\"direction: rtl; text-align: justify; line-height:200%; font-family:vazir; font-size:medium\">\n",
        "<font face=\"vazir\">\n",
        "فایل <code>PDF</code> کتابی با نام «فقط برای تفریح - داستان یک انقلاب اتفاقی» نوشته‌ی لینوس توروالدز، خالق لینوکس و دیوید دیاموند با ترجمه‌ای آزاد از <a href=\"https://jadi.net/\" target=\"_blank\">جادی</a> در پوشه‌ی داده‌های پروژه (<code>data</code>) قرار گرفته است. سعی کنید به‌کمک توابع مخصوص لنگ‌چین جهت خوانش فایل‌های <code>PDF</code> (<a href=\"https://python.langchain.com/v0.2/docs/how_to/document_loader_pdf/\" target=\"_blank\">لینک به مستندات</a>) متن این کتاب را به‌شکل سند استخراج کنید.\n",
        "</font>\n",
        "</p>\n",
        "\n",
        "<p dir=rtl style=\"direction: rtl; text-align: justify; line-height:200%; font-family:vazir; font-size:medium\">\n",
        "<font face=\"vazir\">\n",
        "<span style=\"color:green\"><b>راهنمایی:</b></span>\n",
        "توجه داشته باشید که هر کدام از توابعی که در <code>LangChain</code> جهت خوانش فایل <code>PDF</code> در نظر گرفته شده از یک کتابخانه‌ی مجزا استفاده می‌کند و معمولاً باید چندین مورد مختلف را آزمایش کرد تا موردی با کیفیت خروجی مطلوب را برگزید. با این حال، یک پیشنهاد می‌تواند استفاده از <code>PyPDFium2Loader</code> باشد. البته اگر می‌خواهید متن کتاب را هر چه بهتر و دقیق‌تر استخراج کنید می‌توانید به‌دلخواه از ابزارها و تکنیک‌های دیگری نیز بهره ببرید. پیشنهاد می‌کنیم با توجه خروجی به‌دست‌آمده و بررسی آن‌ها یک سری پیش‌پردازش‌های متنی را جهت بهبود آن‌ها اعمال کنید. چند ایده درباره‌ی پیش‌پردازش متن در صفحه‌ی پروژه در سامانه‌ی کوئرا نوشته شده است.\n",
        "</font>\n",
        "</p>\n",
        "\n",
        "<p dir=rtl style=\"direction: rtl; text-align: justify; line-height:200%; font-family:vazir; font-size:medium\">\n",
        "<font face=\"vazir\">\n",
        "<span style=\"color:orange\"><b>نکته:</b></span>\n",
        "ممکن است با جست‌وجوهای خود به نسخه‌های دیگری از این کتاب همچون فایل <code>Epub</code> نیز برخورد کنید. با این حال پیشنهاد می‌شود که در همین پروژه با چالش‌های خوانش یک فایل <code>PDF</code> فارسی (آن هم فایلی که دیجیتالی نوشته شده است) مواجه شوید تا بتوانید از تجربه‌ی خود در پروژه‌های شخصی‌تان بهره ببرید.\n",
        "</font>\n",
        "</p>"
      ]
    },
    {
      "cell_type": "code",
      "execution_count": 1,
      "metadata": {
        "colab": {
          "base_uri": "https://localhost:8080/"
        },
        "id": "NM2WuW62zHkS",
        "outputId": "d98fd68f-9bd1-405b-9685-55eede5dd59b"
      },
      "outputs": [
        {
          "output_type": "stream",
          "name": "stdout",
          "text": [
            "Mounted at /content/drive\n"
          ]
        }
      ],
      "source": [
        "from google.colab import drive\n",
        "drive.mount('/content/drive')"
      ]
    },
    {
      "cell_type": "code",
      "execution_count": 2,
      "metadata": {
        "colab": {
          "base_uri": "https://localhost:8080/"
        },
        "id": "wwhKsIt50OFU",
        "outputId": "1f64dcb0-f66a-422d-bd20-c1f567a8cfd0",
        "collapsed": true
      },
      "outputs": [
        {
          "output_type": "stream",
          "name": "stdout",
          "text": [
            "Requirement already satisfied: langchain in /usr/local/lib/python3.11/dist-packages (0.3.24)\n",
            "Requirement already satisfied: langchain-core<1.0.0,>=0.3.55 in /usr/local/lib/python3.11/dist-packages (from langchain) (0.3.56)\n",
            "Requirement already satisfied: langchain-text-splitters<1.0.0,>=0.3.8 in /usr/local/lib/python3.11/dist-packages (from langchain) (0.3.8)\n",
            "Requirement already satisfied: langsmith<0.4,>=0.1.17 in /usr/local/lib/python3.11/dist-packages (from langchain) (0.3.34)\n",
            "Requirement already satisfied: pydantic<3.0.0,>=2.7.4 in /usr/local/lib/python3.11/dist-packages (from langchain) (2.11.3)\n",
            "Requirement already satisfied: SQLAlchemy<3,>=1.4 in /usr/local/lib/python3.11/dist-packages (from langchain) (2.0.40)\n",
            "Requirement already satisfied: requests<3,>=2 in /usr/local/lib/python3.11/dist-packages (from langchain) (2.32.3)\n",
            "Requirement already satisfied: PyYAML>=5.3 in /usr/local/lib/python3.11/dist-packages (from langchain) (6.0.2)\n",
            "Requirement already satisfied: tenacity!=8.4.0,<10.0.0,>=8.1.0 in /usr/local/lib/python3.11/dist-packages (from langchain-core<1.0.0,>=0.3.55->langchain) (9.1.2)\n",
            "Requirement already satisfied: jsonpatch<2.0,>=1.33 in /usr/local/lib/python3.11/dist-packages (from langchain-core<1.0.0,>=0.3.55->langchain) (1.33)\n",
            "Requirement already satisfied: packaging<25,>=23.2 in /usr/local/lib/python3.11/dist-packages (from langchain-core<1.0.0,>=0.3.55->langchain) (24.2)\n",
            "Requirement already satisfied: typing-extensions>=4.7 in /usr/local/lib/python3.11/dist-packages (from langchain-core<1.0.0,>=0.3.55->langchain) (4.13.2)\n",
            "Requirement already satisfied: httpx<1,>=0.23.0 in /usr/local/lib/python3.11/dist-packages (from langsmith<0.4,>=0.1.17->langchain) (0.28.1)\n",
            "Requirement already satisfied: orjson<4.0.0,>=3.9.14 in /usr/local/lib/python3.11/dist-packages (from langsmith<0.4,>=0.1.17->langchain) (3.10.16)\n",
            "Requirement already satisfied: requests-toolbelt<2.0.0,>=1.0.0 in /usr/local/lib/python3.11/dist-packages (from langsmith<0.4,>=0.1.17->langchain) (1.0.0)\n",
            "Requirement already satisfied: zstandard<0.24.0,>=0.23.0 in /usr/local/lib/python3.11/dist-packages (from langsmith<0.4,>=0.1.17->langchain) (0.23.0)\n",
            "Requirement already satisfied: annotated-types>=0.6.0 in /usr/local/lib/python3.11/dist-packages (from pydantic<3.0.0,>=2.7.4->langchain) (0.7.0)\n",
            "Requirement already satisfied: pydantic-core==2.33.1 in /usr/local/lib/python3.11/dist-packages (from pydantic<3.0.0,>=2.7.4->langchain) (2.33.1)\n",
            "Requirement already satisfied: typing-inspection>=0.4.0 in /usr/local/lib/python3.11/dist-packages (from pydantic<3.0.0,>=2.7.4->langchain) (0.4.0)\n",
            "Requirement already satisfied: charset-normalizer<4,>=2 in /usr/local/lib/python3.11/dist-packages (from requests<3,>=2->langchain) (3.4.1)\n",
            "Requirement already satisfied: idna<4,>=2.5 in /usr/local/lib/python3.11/dist-packages (from requests<3,>=2->langchain) (3.10)\n",
            "Requirement already satisfied: urllib3<3,>=1.21.1 in /usr/local/lib/python3.11/dist-packages (from requests<3,>=2->langchain) (2.4.0)\n",
            "Requirement already satisfied: certifi>=2017.4.17 in /usr/local/lib/python3.11/dist-packages (from requests<3,>=2->langchain) (2025.1.31)\n",
            "Requirement already satisfied: greenlet>=1 in /usr/local/lib/python3.11/dist-packages (from SQLAlchemy<3,>=1.4->langchain) (3.2.1)\n",
            "Requirement already satisfied: anyio in /usr/local/lib/python3.11/dist-packages (from httpx<1,>=0.23.0->langsmith<0.4,>=0.1.17->langchain) (4.9.0)\n",
            "Requirement already satisfied: httpcore==1.* in /usr/local/lib/python3.11/dist-packages (from httpx<1,>=0.23.0->langsmith<0.4,>=0.1.17->langchain) (1.0.9)\n",
            "Requirement already satisfied: h11>=0.16 in /usr/local/lib/python3.11/dist-packages (from httpcore==1.*->httpx<1,>=0.23.0->langsmith<0.4,>=0.1.17->langchain) (0.16.0)\n",
            "Requirement already satisfied: jsonpointer>=1.9 in /usr/local/lib/python3.11/dist-packages (from jsonpatch<2.0,>=1.33->langchain-core<1.0.0,>=0.3.55->langchain) (3.0.0)\n",
            "Requirement already satisfied: sniffio>=1.1 in /usr/local/lib/python3.11/dist-packages (from anyio->httpx<1,>=0.23.0->langsmith<0.4,>=0.1.17->langchain) (1.3.1)\n"
          ]
        }
      ],
      "source": [
        "!pip install langchain"
      ]
    },
    {
      "cell_type": "code",
      "execution_count": 3,
      "metadata": {
        "colab": {
          "base_uri": "https://localhost:8080/"
        },
        "id": "9YmNlxQf0Ptf",
        "outputId": "ea107204-21b3-44ac-d475-e3ced12fe42e",
        "collapsed": true
      },
      "outputs": [
        {
          "output_type": "stream",
          "name": "stdout",
          "text": [
            "Collecting langchain-cohere\n",
            "  Downloading langchain_cohere-0.4.4-py3-none-any.whl.metadata (6.6 kB)\n",
            "Collecting cohere<6.0,>=5.12.0 (from langchain-cohere)\n",
            "  Downloading cohere-5.15.0-py3-none-any.whl.metadata (3.4 kB)\n",
            "Collecting langchain-community<0.4.0,>=0.3.0 (from langchain-cohere)\n",
            "  Downloading langchain_community-0.3.23-py3-none-any.whl.metadata (2.5 kB)\n",
            "Requirement already satisfied: langchain-core<0.4.0,>=0.3.27 in /usr/local/lib/python3.11/dist-packages (from langchain-cohere) (0.3.56)\n",
            "Requirement already satisfied: pydantic<3,>=2 in /usr/local/lib/python3.11/dist-packages (from langchain-cohere) (2.11.3)\n",
            "Collecting types-pyyaml<7.0.0.0,>=6.0.12.20240917 (from langchain-cohere)\n",
            "  Downloading types_pyyaml-6.0.12.20250402-py3-none-any.whl.metadata (1.8 kB)\n",
            "Collecting fastavro<2.0.0,>=1.9.4 (from cohere<6.0,>=5.12.0->langchain-cohere)\n",
            "  Downloading fastavro-1.10.0-cp311-cp311-manylinux_2_17_x86_64.manylinux2014_x86_64.whl.metadata (5.5 kB)\n",
            "Requirement already satisfied: httpx>=0.21.2 in /usr/local/lib/python3.11/dist-packages (from cohere<6.0,>=5.12.0->langchain-cohere) (0.28.1)\n",
            "Collecting httpx-sse==0.4.0 (from cohere<6.0,>=5.12.0->langchain-cohere)\n",
            "  Downloading httpx_sse-0.4.0-py3-none-any.whl.metadata (9.0 kB)\n",
            "Requirement already satisfied: pydantic-core<3.0.0,>=2.18.2 in /usr/local/lib/python3.11/dist-packages (from cohere<6.0,>=5.12.0->langchain-cohere) (2.33.1)\n",
            "Requirement already satisfied: requests<3.0.0,>=2.0.0 in /usr/local/lib/python3.11/dist-packages (from cohere<6.0,>=5.12.0->langchain-cohere) (2.32.3)\n",
            "Requirement already satisfied: tokenizers<1,>=0.15 in /usr/local/lib/python3.11/dist-packages (from cohere<6.0,>=5.12.0->langchain-cohere) (0.21.1)\n",
            "Collecting types-requests<3.0.0,>=2.0.0 (from cohere<6.0,>=5.12.0->langchain-cohere)\n",
            "  Downloading types_requests-2.32.0.20250328-py3-none-any.whl.metadata (2.3 kB)\n",
            "Requirement already satisfied: typing_extensions>=4.0.0 in /usr/local/lib/python3.11/dist-packages (from cohere<6.0,>=5.12.0->langchain-cohere) (4.13.2)\n",
            "Requirement already satisfied: langchain<1.0.0,>=0.3.24 in /usr/local/lib/python3.11/dist-packages (from langchain-community<0.4.0,>=0.3.0->langchain-cohere) (0.3.24)\n",
            "Requirement already satisfied: SQLAlchemy<3,>=1.4 in /usr/local/lib/python3.11/dist-packages (from langchain-community<0.4.0,>=0.3.0->langchain-cohere) (2.0.40)\n",
            "Requirement already satisfied: PyYAML>=5.3 in /usr/local/lib/python3.11/dist-packages (from langchain-community<0.4.0,>=0.3.0->langchain-cohere) (6.0.2)\n",
            "Requirement already satisfied: aiohttp<4.0.0,>=3.8.3 in /usr/local/lib/python3.11/dist-packages (from langchain-community<0.4.0,>=0.3.0->langchain-cohere) (3.11.15)\n",
            "Requirement already satisfied: tenacity!=8.4.0,<10,>=8.1.0 in /usr/local/lib/python3.11/dist-packages (from langchain-community<0.4.0,>=0.3.0->langchain-cohere) (9.1.2)\n",
            "Collecting dataclasses-json<0.7,>=0.5.7 (from langchain-community<0.4.0,>=0.3.0->langchain-cohere)\n",
            "  Downloading dataclasses_json-0.6.7-py3-none-any.whl.metadata (25 kB)\n",
            "Collecting pydantic-settings<3.0.0,>=2.4.0 (from langchain-community<0.4.0,>=0.3.0->langchain-cohere)\n",
            "  Downloading pydantic_settings-2.9.1-py3-none-any.whl.metadata (3.8 kB)\n",
            "Requirement already satisfied: langsmith<0.4,>=0.1.125 in /usr/local/lib/python3.11/dist-packages (from langchain-community<0.4.0,>=0.3.0->langchain-cohere) (0.3.34)\n",
            "Requirement already satisfied: numpy>=1.26.2 in /usr/local/lib/python3.11/dist-packages (from langchain-community<0.4.0,>=0.3.0->langchain-cohere) (2.0.2)\n",
            "Requirement already satisfied: jsonpatch<2.0,>=1.33 in /usr/local/lib/python3.11/dist-packages (from langchain-core<0.4.0,>=0.3.27->langchain-cohere) (1.33)\n",
            "Requirement already satisfied: packaging<25,>=23.2 in /usr/local/lib/python3.11/dist-packages (from langchain-core<0.4.0,>=0.3.27->langchain-cohere) (24.2)\n",
            "Requirement already satisfied: annotated-types>=0.6.0 in /usr/local/lib/python3.11/dist-packages (from pydantic<3,>=2->langchain-cohere) (0.7.0)\n",
            "Requirement already satisfied: typing-inspection>=0.4.0 in /usr/local/lib/python3.11/dist-packages (from pydantic<3,>=2->langchain-cohere) (0.4.0)\n",
            "Requirement already satisfied: aiohappyeyeballs>=2.3.0 in /usr/local/lib/python3.11/dist-packages (from aiohttp<4.0.0,>=3.8.3->langchain-community<0.4.0,>=0.3.0->langchain-cohere) (2.6.1)\n",
            "Requirement already satisfied: aiosignal>=1.1.2 in /usr/local/lib/python3.11/dist-packages (from aiohttp<4.0.0,>=3.8.3->langchain-community<0.4.0,>=0.3.0->langchain-cohere) (1.3.2)\n",
            "Requirement already satisfied: attrs>=17.3.0 in /usr/local/lib/python3.11/dist-packages (from aiohttp<4.0.0,>=3.8.3->langchain-community<0.4.0,>=0.3.0->langchain-cohere) (25.3.0)\n",
            "Requirement already satisfied: frozenlist>=1.1.1 in /usr/local/lib/python3.11/dist-packages (from aiohttp<4.0.0,>=3.8.3->langchain-community<0.4.0,>=0.3.0->langchain-cohere) (1.6.0)\n",
            "Requirement already satisfied: multidict<7.0,>=4.5 in /usr/local/lib/python3.11/dist-packages (from aiohttp<4.0.0,>=3.8.3->langchain-community<0.4.0,>=0.3.0->langchain-cohere) (6.4.3)\n",
            "Requirement already satisfied: propcache>=0.2.0 in /usr/local/lib/python3.11/dist-packages (from aiohttp<4.0.0,>=3.8.3->langchain-community<0.4.0,>=0.3.0->langchain-cohere) (0.3.1)\n",
            "Requirement already satisfied: yarl<2.0,>=1.17.0 in /usr/local/lib/python3.11/dist-packages (from aiohttp<4.0.0,>=3.8.3->langchain-community<0.4.0,>=0.3.0->langchain-cohere) (1.20.0)\n",
            "Collecting marshmallow<4.0.0,>=3.18.0 (from dataclasses-json<0.7,>=0.5.7->langchain-community<0.4.0,>=0.3.0->langchain-cohere)\n",
            "  Downloading marshmallow-3.26.1-py3-none-any.whl.metadata (7.3 kB)\n",
            "Collecting typing-inspect<1,>=0.4.0 (from dataclasses-json<0.7,>=0.5.7->langchain-community<0.4.0,>=0.3.0->langchain-cohere)\n",
            "  Downloading typing_inspect-0.9.0-py3-none-any.whl.metadata (1.5 kB)\n",
            "Requirement already satisfied: anyio in /usr/local/lib/python3.11/dist-packages (from httpx>=0.21.2->cohere<6.0,>=5.12.0->langchain-cohere) (4.9.0)\n",
            "Requirement already satisfied: certifi in /usr/local/lib/python3.11/dist-packages (from httpx>=0.21.2->cohere<6.0,>=5.12.0->langchain-cohere) (2025.1.31)\n",
            "Requirement already satisfied: httpcore==1.* in /usr/local/lib/python3.11/dist-packages (from httpx>=0.21.2->cohere<6.0,>=5.12.0->langchain-cohere) (1.0.9)\n",
            "Requirement already satisfied: idna in /usr/local/lib/python3.11/dist-packages (from httpx>=0.21.2->cohere<6.0,>=5.12.0->langchain-cohere) (3.10)\n",
            "Requirement already satisfied: h11>=0.16 in /usr/local/lib/python3.11/dist-packages (from httpcore==1.*->httpx>=0.21.2->cohere<6.0,>=5.12.0->langchain-cohere) (0.16.0)\n",
            "Requirement already satisfied: jsonpointer>=1.9 in /usr/local/lib/python3.11/dist-packages (from jsonpatch<2.0,>=1.33->langchain-core<0.4.0,>=0.3.27->langchain-cohere) (3.0.0)\n",
            "Requirement already satisfied: langchain-text-splitters<1.0.0,>=0.3.8 in /usr/local/lib/python3.11/dist-packages (from langchain<1.0.0,>=0.3.24->langchain-community<0.4.0,>=0.3.0->langchain-cohere) (0.3.8)\n",
            "Requirement already satisfied: orjson<4.0.0,>=3.9.14 in /usr/local/lib/python3.11/dist-packages (from langsmith<0.4,>=0.1.125->langchain-community<0.4.0,>=0.3.0->langchain-cohere) (3.10.16)\n",
            "Requirement already satisfied: requests-toolbelt<2.0.0,>=1.0.0 in /usr/local/lib/python3.11/dist-packages (from langsmith<0.4,>=0.1.125->langchain-community<0.4.0,>=0.3.0->langchain-cohere) (1.0.0)\n",
            "Requirement already satisfied: zstandard<0.24.0,>=0.23.0 in /usr/local/lib/python3.11/dist-packages (from langsmith<0.4,>=0.1.125->langchain-community<0.4.0,>=0.3.0->langchain-cohere) (0.23.0)\n",
            "Collecting python-dotenv>=0.21.0 (from pydantic-settings<3.0.0,>=2.4.0->langchain-community<0.4.0,>=0.3.0->langchain-cohere)\n",
            "  Downloading python_dotenv-1.1.0-py3-none-any.whl.metadata (24 kB)\n",
            "Requirement already satisfied: charset-normalizer<4,>=2 in /usr/local/lib/python3.11/dist-packages (from requests<3.0.0,>=2.0.0->cohere<6.0,>=5.12.0->langchain-cohere) (3.4.1)\n",
            "Requirement already satisfied: urllib3<3,>=1.21.1 in /usr/local/lib/python3.11/dist-packages (from requests<3.0.0,>=2.0.0->cohere<6.0,>=5.12.0->langchain-cohere) (2.4.0)\n",
            "Requirement already satisfied: greenlet>=1 in /usr/local/lib/python3.11/dist-packages (from SQLAlchemy<3,>=1.4->langchain-community<0.4.0,>=0.3.0->langchain-cohere) (3.2.1)\n",
            "Requirement already satisfied: huggingface-hub<1.0,>=0.16.4 in /usr/local/lib/python3.11/dist-packages (from tokenizers<1,>=0.15->cohere<6.0,>=5.12.0->langchain-cohere) (0.30.2)\n",
            "Requirement already satisfied: filelock in /usr/local/lib/python3.11/dist-packages (from huggingface-hub<1.0,>=0.16.4->tokenizers<1,>=0.15->cohere<6.0,>=5.12.0->langchain-cohere) (3.18.0)\n",
            "Requirement already satisfied: fsspec>=2023.5.0 in /usr/local/lib/python3.11/dist-packages (from huggingface-hub<1.0,>=0.16.4->tokenizers<1,>=0.15->cohere<6.0,>=5.12.0->langchain-cohere) (2025.3.2)\n",
            "Requirement already satisfied: tqdm>=4.42.1 in /usr/local/lib/python3.11/dist-packages (from huggingface-hub<1.0,>=0.16.4->tokenizers<1,>=0.15->cohere<6.0,>=5.12.0->langchain-cohere) (4.67.1)\n",
            "Collecting mypy-extensions>=0.3.0 (from typing-inspect<1,>=0.4.0->dataclasses-json<0.7,>=0.5.7->langchain-community<0.4.0,>=0.3.0->langchain-cohere)\n",
            "  Downloading mypy_extensions-1.1.0-py3-none-any.whl.metadata (1.1 kB)\n",
            "Requirement already satisfied: sniffio>=1.1 in /usr/local/lib/python3.11/dist-packages (from anyio->httpx>=0.21.2->cohere<6.0,>=5.12.0->langchain-cohere) (1.3.1)\n",
            "Downloading langchain_cohere-0.4.4-py3-none-any.whl (42 kB)\n",
            "\u001b[2K   \u001b[90m━━━━━━━━━━━━━━━━━━━━━━━━━━━━━━━━━━━━━━━━\u001b[0m \u001b[32m42.3/42.3 kB\u001b[0m \u001b[31m2.3 MB/s\u001b[0m eta \u001b[36m0:00:00\u001b[0m\n",
            "\u001b[?25hDownloading cohere-5.15.0-py3-none-any.whl (259 kB)\n",
            "\u001b[2K   \u001b[90m━━━━━━━━━━━━━━━━━━━━━━━━━━━━━━━━━━━━━━━━\u001b[0m \u001b[32m259.5/259.5 kB\u001b[0m \u001b[31m13.2 MB/s\u001b[0m eta \u001b[36m0:00:00\u001b[0m\n",
            "\u001b[?25hDownloading httpx_sse-0.4.0-py3-none-any.whl (7.8 kB)\n",
            "Downloading langchain_community-0.3.23-py3-none-any.whl (2.5 MB)\n",
            "\u001b[2K   \u001b[90m━━━━━━━━━━━━━━━━━━━━━━━━━━━━━━━━━━━━━━━━\u001b[0m \u001b[32m2.5/2.5 MB\u001b[0m \u001b[31m46.7 MB/s\u001b[0m eta \u001b[36m0:00:00\u001b[0m\n",
            "\u001b[?25hDownloading types_pyyaml-6.0.12.20250402-py3-none-any.whl (20 kB)\n",
            "Downloading dataclasses_json-0.6.7-py3-none-any.whl (28 kB)\n",
            "Downloading fastavro-1.10.0-cp311-cp311-manylinux_2_17_x86_64.manylinux2014_x86_64.whl (3.3 MB)\n",
            "\u001b[2K   \u001b[90m━━━━━━━━━━━━━━━━━━━━━━━━━━━━━━━━━━━━━━━━\u001b[0m \u001b[32m3.3/3.3 MB\u001b[0m \u001b[31m60.0 MB/s\u001b[0m eta \u001b[36m0:00:00\u001b[0m\n",
            "\u001b[?25hDownloading pydantic_settings-2.9.1-py3-none-any.whl (44 kB)\n",
            "\u001b[2K   \u001b[90m━━━━━━━━━━━━━━━━━━━━━━━━━━━━━━━━━━━━━━━━\u001b[0m \u001b[32m44.4/44.4 kB\u001b[0m \u001b[31m3.0 MB/s\u001b[0m eta \u001b[36m0:00:00\u001b[0m\n",
            "\u001b[?25hDownloading types_requests-2.32.0.20250328-py3-none-any.whl (20 kB)\n",
            "Downloading marshmallow-3.26.1-py3-none-any.whl (50 kB)\n",
            "\u001b[2K   \u001b[90m━━━━━━━━━━━━━━━━━━━━━━━━━━━━━━━━━━━━━━━━\u001b[0m \u001b[32m50.9/50.9 kB\u001b[0m \u001b[31m3.8 MB/s\u001b[0m eta \u001b[36m0:00:00\u001b[0m\n",
            "\u001b[?25hDownloading python_dotenv-1.1.0-py3-none-any.whl (20 kB)\n",
            "Downloading typing_inspect-0.9.0-py3-none-any.whl (8.8 kB)\n",
            "Downloading mypy_extensions-1.1.0-py3-none-any.whl (5.0 kB)\n",
            "Installing collected packages: types-requests, types-pyyaml, python-dotenv, mypy-extensions, marshmallow, httpx-sse, fastavro, typing-inspect, pydantic-settings, dataclasses-json, cohere, langchain-community, langchain-cohere\n",
            "Successfully installed cohere-5.15.0 dataclasses-json-0.6.7 fastavro-1.10.0 httpx-sse-0.4.0 langchain-cohere-0.4.4 langchain-community-0.3.23 marshmallow-3.26.1 mypy-extensions-1.1.0 pydantic-settings-2.9.1 python-dotenv-1.1.0 types-pyyaml-6.0.12.20250402 types-requests-2.32.0.20250328 typing-inspect-0.9.0\n"
          ]
        }
      ],
      "source": [
        "pip install langchain-cohere"
      ]
    },
    {
      "cell_type": "code",
      "execution_count": 4,
      "metadata": {
        "colab": {
          "base_uri": "https://localhost:8080/"
        },
        "id": "wpFaxs-VRd1p",
        "outputId": "4f4d9943-52f8-4c0c-95e1-e76fad22b82a",
        "collapsed": true
      },
      "outputs": [
        {
          "output_type": "stream",
          "name": "stdout",
          "text": [
            "Requirement already satisfied: langchain-community in /usr/local/lib/python3.11/dist-packages (0.3.23)\n",
            "Requirement already satisfied: langchain-core<1.0.0,>=0.3.56 in /usr/local/lib/python3.11/dist-packages (from langchain-community) (0.3.56)\n",
            "Requirement already satisfied: langchain<1.0.0,>=0.3.24 in /usr/local/lib/python3.11/dist-packages (from langchain-community) (0.3.24)\n",
            "Requirement already satisfied: SQLAlchemy<3,>=1.4 in /usr/local/lib/python3.11/dist-packages (from langchain-community) (2.0.40)\n",
            "Requirement already satisfied: requests<3,>=2 in /usr/local/lib/python3.11/dist-packages (from langchain-community) (2.32.3)\n",
            "Requirement already satisfied: PyYAML>=5.3 in /usr/local/lib/python3.11/dist-packages (from langchain-community) (6.0.2)\n",
            "Requirement already satisfied: aiohttp<4.0.0,>=3.8.3 in /usr/local/lib/python3.11/dist-packages (from langchain-community) (3.11.15)\n",
            "Requirement already satisfied: tenacity!=8.4.0,<10,>=8.1.0 in /usr/local/lib/python3.11/dist-packages (from langchain-community) (9.1.2)\n",
            "Requirement already satisfied: dataclasses-json<0.7,>=0.5.7 in /usr/local/lib/python3.11/dist-packages (from langchain-community) (0.6.7)\n",
            "Requirement already satisfied: pydantic-settings<3.0.0,>=2.4.0 in /usr/local/lib/python3.11/dist-packages (from langchain-community) (2.9.1)\n",
            "Requirement already satisfied: langsmith<0.4,>=0.1.125 in /usr/local/lib/python3.11/dist-packages (from langchain-community) (0.3.34)\n",
            "Requirement already satisfied: httpx-sse<1.0.0,>=0.4.0 in /usr/local/lib/python3.11/dist-packages (from langchain-community) (0.4.0)\n",
            "Requirement already satisfied: numpy>=1.26.2 in /usr/local/lib/python3.11/dist-packages (from langchain-community) (2.0.2)\n",
            "Requirement already satisfied: aiohappyeyeballs>=2.3.0 in /usr/local/lib/python3.11/dist-packages (from aiohttp<4.0.0,>=3.8.3->langchain-community) (2.6.1)\n",
            "Requirement already satisfied: aiosignal>=1.1.2 in /usr/local/lib/python3.11/dist-packages (from aiohttp<4.0.0,>=3.8.3->langchain-community) (1.3.2)\n",
            "Requirement already satisfied: attrs>=17.3.0 in /usr/local/lib/python3.11/dist-packages (from aiohttp<4.0.0,>=3.8.3->langchain-community) (25.3.0)\n",
            "Requirement already satisfied: frozenlist>=1.1.1 in /usr/local/lib/python3.11/dist-packages (from aiohttp<4.0.0,>=3.8.3->langchain-community) (1.6.0)\n",
            "Requirement already satisfied: multidict<7.0,>=4.5 in /usr/local/lib/python3.11/dist-packages (from aiohttp<4.0.0,>=3.8.3->langchain-community) (6.4.3)\n",
            "Requirement already satisfied: propcache>=0.2.0 in /usr/local/lib/python3.11/dist-packages (from aiohttp<4.0.0,>=3.8.3->langchain-community) (0.3.1)\n",
            "Requirement already satisfied: yarl<2.0,>=1.17.0 in /usr/local/lib/python3.11/dist-packages (from aiohttp<4.0.0,>=3.8.3->langchain-community) (1.20.0)\n",
            "Requirement already satisfied: marshmallow<4.0.0,>=3.18.0 in /usr/local/lib/python3.11/dist-packages (from dataclasses-json<0.7,>=0.5.7->langchain-community) (3.26.1)\n",
            "Requirement already satisfied: typing-inspect<1,>=0.4.0 in /usr/local/lib/python3.11/dist-packages (from dataclasses-json<0.7,>=0.5.7->langchain-community) (0.9.0)\n",
            "Requirement already satisfied: langchain-text-splitters<1.0.0,>=0.3.8 in /usr/local/lib/python3.11/dist-packages (from langchain<1.0.0,>=0.3.24->langchain-community) (0.3.8)\n",
            "Requirement already satisfied: pydantic<3.0.0,>=2.7.4 in /usr/local/lib/python3.11/dist-packages (from langchain<1.0.0,>=0.3.24->langchain-community) (2.11.3)\n",
            "Requirement already satisfied: jsonpatch<2.0,>=1.33 in /usr/local/lib/python3.11/dist-packages (from langchain-core<1.0.0,>=0.3.56->langchain-community) (1.33)\n",
            "Requirement already satisfied: packaging<25,>=23.2 in /usr/local/lib/python3.11/dist-packages (from langchain-core<1.0.0,>=0.3.56->langchain-community) (24.2)\n",
            "Requirement already satisfied: typing-extensions>=4.7 in /usr/local/lib/python3.11/dist-packages (from langchain-core<1.0.0,>=0.3.56->langchain-community) (4.13.2)\n",
            "Requirement already satisfied: httpx<1,>=0.23.0 in /usr/local/lib/python3.11/dist-packages (from langsmith<0.4,>=0.1.125->langchain-community) (0.28.1)\n",
            "Requirement already satisfied: orjson<4.0.0,>=3.9.14 in /usr/local/lib/python3.11/dist-packages (from langsmith<0.4,>=0.1.125->langchain-community) (3.10.16)\n",
            "Requirement already satisfied: requests-toolbelt<2.0.0,>=1.0.0 in /usr/local/lib/python3.11/dist-packages (from langsmith<0.4,>=0.1.125->langchain-community) (1.0.0)\n",
            "Requirement already satisfied: zstandard<0.24.0,>=0.23.0 in /usr/local/lib/python3.11/dist-packages (from langsmith<0.4,>=0.1.125->langchain-community) (0.23.0)\n",
            "Requirement already satisfied: python-dotenv>=0.21.0 in /usr/local/lib/python3.11/dist-packages (from pydantic-settings<3.0.0,>=2.4.0->langchain-community) (1.1.0)\n",
            "Requirement already satisfied: typing-inspection>=0.4.0 in /usr/local/lib/python3.11/dist-packages (from pydantic-settings<3.0.0,>=2.4.0->langchain-community) (0.4.0)\n",
            "Requirement already satisfied: charset-normalizer<4,>=2 in /usr/local/lib/python3.11/dist-packages (from requests<3,>=2->langchain-community) (3.4.1)\n",
            "Requirement already satisfied: idna<4,>=2.5 in /usr/local/lib/python3.11/dist-packages (from requests<3,>=2->langchain-community) (3.10)\n",
            "Requirement already satisfied: urllib3<3,>=1.21.1 in /usr/local/lib/python3.11/dist-packages (from requests<3,>=2->langchain-community) (2.4.0)\n",
            "Requirement already satisfied: certifi>=2017.4.17 in /usr/local/lib/python3.11/dist-packages (from requests<3,>=2->langchain-community) (2025.1.31)\n",
            "Requirement already satisfied: greenlet>=1 in /usr/local/lib/python3.11/dist-packages (from SQLAlchemy<3,>=1.4->langchain-community) (3.2.1)\n",
            "Requirement already satisfied: anyio in /usr/local/lib/python3.11/dist-packages (from httpx<1,>=0.23.0->langsmith<0.4,>=0.1.125->langchain-community) (4.9.0)\n",
            "Requirement already satisfied: httpcore==1.* in /usr/local/lib/python3.11/dist-packages (from httpx<1,>=0.23.0->langsmith<0.4,>=0.1.125->langchain-community) (1.0.9)\n",
            "Requirement already satisfied: h11>=0.16 in /usr/local/lib/python3.11/dist-packages (from httpcore==1.*->httpx<1,>=0.23.0->langsmith<0.4,>=0.1.125->langchain-community) (0.16.0)\n",
            "Requirement already satisfied: jsonpointer>=1.9 in /usr/local/lib/python3.11/dist-packages (from jsonpatch<2.0,>=1.33->langchain-core<1.0.0,>=0.3.56->langchain-community) (3.0.0)\n",
            "Requirement already satisfied: annotated-types>=0.6.0 in /usr/local/lib/python3.11/dist-packages (from pydantic<3.0.0,>=2.7.4->langchain<1.0.0,>=0.3.24->langchain-community) (0.7.0)\n",
            "Requirement already satisfied: pydantic-core==2.33.1 in /usr/local/lib/python3.11/dist-packages (from pydantic<3.0.0,>=2.7.4->langchain<1.0.0,>=0.3.24->langchain-community) (2.33.1)\n",
            "Requirement already satisfied: mypy-extensions>=0.3.0 in /usr/local/lib/python3.11/dist-packages (from typing-inspect<1,>=0.4.0->dataclasses-json<0.7,>=0.5.7->langchain-community) (1.1.0)\n",
            "Requirement already satisfied: sniffio>=1.1 in /usr/local/lib/python3.11/dist-packages (from anyio->httpx<1,>=0.23.0->langsmith<0.4,>=0.1.125->langchain-community) (1.3.1)\n",
            "Collecting pypdfium2\n",
            "  Downloading pypdfium2-4.30.1-py3-none-manylinux_2_17_x86_64.manylinux2014_x86_64.whl.metadata (48 kB)\n",
            "\u001b[2K     \u001b[90m━━━━━━━━━━━━━━━━━━━━━━━━━━━━━━━━━━━━━━━━\u001b[0m \u001b[32m48.2/48.2 kB\u001b[0m \u001b[31m3.3 MB/s\u001b[0m eta \u001b[36m0:00:00\u001b[0m\n",
            "\u001b[?25hDownloading pypdfium2-4.30.1-py3-none-manylinux_2_17_x86_64.manylinux2014_x86_64.whl (2.9 MB)\n",
            "\u001b[2K   \u001b[90m━━━━━━━━━━━━━━━━━━━━━━━━━━━━━━━━━━━━━━━━\u001b[0m \u001b[32m2.9/2.9 MB\u001b[0m \u001b[31m54.7 MB/s\u001b[0m eta \u001b[36m0:00:00\u001b[0m\n",
            "\u001b[?25hInstalling collected packages: pypdfium2\n",
            "Successfully installed pypdfium2-4.30.1\n"
          ]
        }
      ],
      "source": [
        "!pip install langchain-community\n",
        "!pip install pypdfium2"
      ]
    },
    {
      "cell_type": "code",
      "execution_count": 36,
      "metadata": {
        "id": "SFImNRGvyQ1e"
      },
      "outputs": [],
      "source": [
        "# Don't forget to install the langchain-community and pypdfium2 packages\n",
        "from langchain_community.document_loaders import PyPDFium2Loader\n",
        "\n",
        "pdf_docs = \"/content/drive/MyDrive/librechat/data/justforfun_persian.pdf\" # TODO: Load the justforfun_persian.pdf file using a Langchain document loader"
      ]
    },
    {
      "cell_type": "code",
      "execution_count": 37,
      "metadata": {
        "colab": {
          "base_uri": "https://localhost:8080/"
        },
        "id": "VolJi0S7SZLE",
        "outputId": "d0f81f2d-ae04-4dac-9342-e4968caa16e6"
      },
      "outputs": [
        {
          "output_type": "stream",
          "name": "stderr",
          "text": [
            "/usr/local/lib/python3.11/dist-packages/pypdfium2/_helpers/textpage.py:80: UserWarning: get_text_range() call with default params will be implicitly redirected to get_text_bounded()\n",
            "  warnings.warn(\"get_text_range() call with default params will be implicitly redirected to get_text_bounded()\")\n"
          ]
        },
        {
          "output_type": "execute_result",
          "data": {
            "text/plain": [
              "Document(metadata={'producer': 'xdvipdfmx (0.7.9)', 'creator': 'LaTeX with hyperref package', 'creationdate': '2014-08-20T22:20:07+04:30', 'title': '', 'author': '', 'subject': '', 'keywords': '', 'moddate': '', 'source': '/content/drive/MyDrive/librechat/data/justforfun_persian.pdf', 'total_pages': 204, 'page': 0}, page_content='فقط برای تفریح\\nداستان یͷ انقلابی اتفاقͬ\\nلینوس توروالدز خالق لینوکس و دیوید دیاموند\\nترجمه جادی\\nحروف چینͬ نسخه لاتک: MXAmin\\n')"
            ]
          },
          "metadata": {},
          "execution_count": 37
        }
      ],
      "source": [
        "loader = PyPDFium2Loader(pdf_docs)\n",
        "docs = loader.load()\n",
        "docs[0]"
      ]
    },
    {
      "cell_type": "code",
      "execution_count": 20,
      "metadata": {
        "colab": {
          "base_uri": "https://localhost:8080/"
        },
        "id": "_5pBY0qFyQ1g",
        "outputId": "0bb8a288-3682-40b9-f8da-c9300c22a800"
      },
      "outputs": [
        {
          "output_type": "stream",
          "name": "stdout",
          "text": [
            "Number of pages (loaded Document objects): 204\n"
          ]
        }
      ],
      "source": [
        "print(\"Number of pages (loaded Document objects):\", len(docs))"
      ]
    },
    {
      "cell_type": "code",
      "execution_count": 21,
      "metadata": {
        "colab": {
          "base_uri": "https://localhost:8080/"
        },
        "id": "3IYQA54HyQ1g",
        "outputId": "67452c8d-1a79-405d-dbaf-8f713be6e6e3"
      },
      "outputs": [
        {
          "output_type": "stream",
          "name": "stdout",
          "text": [
            "Page 116 Content:\n",
            "\n",
            "فرش قرمز، بخش دوم صفحۀ ١١١\n",
            "از مسیر. مدت زیادی از حل شدن این مساله نگذشته بود که داستان جدیدی رو شد: مهندسͬ\n",
            "از آزمایشͽاه تحقیقاتͬ اینتل در پورتلند اورگون به من اطلاع داد که شرکتش در حال استفاده از\n",
            "لینوکس برای کشف معماری های جدید است. او از من پرسید که آیا علاقه دارم شش ماه به عنوان\n",
            "کارآموز به اینتل بروم یا نه.\n",
            "من و تاو به شͺلͬ مبهم درباره امͺان مهاجرت به آمریͺا و زندگͬ در آن جا با یͺدیͽر صحبت\n",
            "کرده بودیم. او مͬ دانست که از آبجوی ریشه گذشته، من از بودن در آمریͺا بسیار لذت برد ه ام. ما\n",
            "به این نتیجه مشترک رسیده بود که فرصت ها در آمریͺا بهتر هستند ‐ چه برسد به آب و هوا ‐\n",
            "(تازه من به این نتیجه هم رسیده بودم که شیوه ایجاد انگیزه در کارمندان در آمریͺا در مقایسه با\n",
            "اروپا واقع بینانه تر است و منجر به محصولات بهتری هم مͬ شود. در فنلاند اگر یͷ نفر از همͺاران\n",
            "خود بسیار بهتر باشد، بدون سر و صدا کمͬ بیشتر پول مͬ گیرد. در آمریͺا این پول بیشتر است\n",
            "و خیلͬ هم بهتر کار مͬ کند). دوره کارآموزی در اینتل فرصت خوبی بود برای محͷ زدن شرایط\n",
            "و ما توافق کردیم که من از این موقعیت استفاده کنم. من دل نگرانͬ هایی هم داشتم. مثلا راحت\n",
            "نبودم که دانشͺده را بدون گرفتن مدرک ترک کنم. شاید به خاطر تجربه پدربزرگ پروفسورم،\n",
            "احساس خوبی نسبت به این نداشتم که دانشͽاه راه رها کنم. در نهایت، احساسات من اصولا در\n",
            "تصمیم گیری دخیل نشد چون همان مهندس با من تماس گرفت و گفت که برای رفتن به اینتل\n",
            "و کار در آن جا، نیازمند ویزای کار شش ماهه هستم که احتمال موافقت اداره مهاجرت با آن کم\n",
            "است.\n",
            "ما در هلسینکͬ ماندیم. در روزهای شادمانͬ آخر سال ،١٩٩۶ من تلاش مͬ کردم تا سانتیمتر به\n",
            "سانتیمتر به مدرک لیسانسم نزدیͷ تر شوم. برای کسب امتیازات لازم، فقط باید یͷ دوره کوچͷ\n",
            "دیͽر مͬ گذراندم و پایان نامه ام را هم مͬ نوشتم. عجیب است که این اولین باری مͬ شد که لینوکسͬ\n",
            "که اکثر ساعت های عمرم را به آن گذرانده بودم، برایم کاربردی تحصیلͬ پیدا مͬ کرد.\n",
            "سال ١٩٩۶ سال بیداری من بود. در فنلاند برابری طلب، حقوق شما بعد از سه سال کار\n",
            "باید افزایش پیدا کند. افزایش حقوق برای من مانند تلنگری بود که مͬ گفت سه سال است دارم\n",
            "در دانشͺده کار مͬ کنم. آیا مͬ خواستم همه زندگͬ ام را همین جا بͽذارنم؟ آیا برنامه ام این بود\n",
            "که جای پدربزرگم را بͽیرم؟ یادتان هست که او را در ابتدای همین کتاب چطور توصیف کردم؟\n",
            "کچل، دارای اضافه وزن و بدون هیچ بویی. حالا دیͽر خودم را بیشتر از قبل در آینه نگاه و بررسͬ\n",
            "مͬ کردم. خط جلوی موهایم چند میلیمتری عقب رفته بود و چند کیلو چربی اضافͬ در شͺم سابقا\n",
            "لاغرم دیده مͬ شد. بیست و شش ساله بودم و برای اولین بار در زندگͬ احساس پیری مͬ کردم.\n",
            "هفت سال بود که در دانشͺده بودم و مͬ دانستم که همین که اراده کنم، مͬ توانستم کارها را جمع\n",
            "و جور کنم و فارغ التحصیل شوم.\n",
            "\n",
            "================================================================================\n",
            "Page 144 Content:\n",
            "\n",
            "فرش قرمز، بخش هفتم صفحۀ ١٣٩\n",
            "١\n",
            "نداشتم. لری که از این کارها سر در مͬ آورد و خیلͬ ها را هم مͬ شناخت من را به لمن برادرز\n",
            "معرفͬ کرد. به نظرم اگر لری من را معرفͬ نکرده بود، لمن اصلا من را تحویل نمͬ گرفت چون\n",
            "مشتری های بسیار بزرگ تری داشت. او قول داد که بهترین گزینه را پیدا و به من اعلام مͬ کند. در\n",
            "همین حین و دو روز بعد از اینکه سهام عام شده بود، کسͬ از اداره نیروی انسانͬ ردهت یا شاید\n",
            "هم وکیل آن ها با من تماس گرفت و گفت که پیش از عام کردن سهام، آن را قسمت کرده اند. از\n",
            "این جمله هم سر در نمͬ آوردم پس به سراغ پاکت سهام رفتم که هنوز هم بازش نکرده بودم. در\n",
            "پاکت به زبان ساده توضیح داده بود که سهام من دوبرابر شده است.\n",
            "نیم میلیون دلار من، حالا شده بود یͷ میلیون دلار!\n",
            "با وجود تصویری که به عنوان یͷ گیͷ توده ای و پرهیزگار که در فقر زندگͬ مͬ کند از من در\n",
            "رسانه ها بازتاب پیدا کرده بود، این جریان عملا باعث شده بود که به هذیان گفتم بیفتم.\n",
            "ماجرا همین بود.\n",
            "من نشستم و کل کاغذهای قانونͬ ردهت را خواندم. بله من برای فروش سهام باید ١٨٠ روز\n",
            "صبر مͬ کردم.\n",
            "درک مͬ کنید ١٨٠ روز چقدر طولانͬ است وقتͬ که شما برای اولین بار روی کاغذ میلیونر\n",
            "شده اید؟\n",
            "حالا یͷ ورزش جدید داشتم: بررسͬ روزانه ارزش سهام ردهت که در طول شش ماه بعد از\n",
            "عام شدن، افزایش مͬ یافت. سهام به شͺل پیوسته زیاد مͬ شد و چند باری هم جهش کرد و باز\n",
            "هم به رشد ادامه داد. یͺبار هم سهام ردهت دوباره تقسیم شد و در بهترین حالت، من ۵ میلیون\n",
            "دلار پول داشتم.\n",
            "ردهت با مبلغ پایینͬ شروع کرد و در وال استریت قدم به قدم بالا رفت و هر واقعه ای که\n",
            "حتͬ ربط اندکͬ هم به اینترنت داشت، باعث رشد آن مͬ شد چون به نوبه خود باعث “کشف”\n",
            "مجدد لینوکس مͬ شد. ما در طول زمستان ،١٩٩٩ سهام منتخب بورس بودیم. متخصصان بورس\n",
            "به تلویزیون مͬ آمدند و در مورد این سیستم عامل عجیب و کوچͷ که در حال به زانو درآوردن\n",
            "مایͺروسافت است صحبت مͬ کردند. تلفن من هم دائما زنگ مͬ زد. اوج لذت، روزی بود که\n",
            "وی.ای. لینوکس هم سهام خود را در نهم دسامبر به بورس عرضه کرد. این موفقیت ماورای تصور\n",
            "همͽان بود.\n",
            "من و لری آ گوستین برای حضور در اولین جلسه خرید و فروش عمومͬ سهام به سانفرانسیسͺو\n",
            "رفته بودیم. من لباس همیشͽͬ ام را پوشیده بودم یعنͬ یͷ تͬ شرت رایͽان و صندل. همسر و\n",
            "بچه ها را هم با خودمان برده بودیم و صحنه وول خوردن بچه های نوپا در مسیر رفت و آمد بانکداران\n",
            "بزرگ دنیا باید صحنه بامزه ای بوده باشد.\n",
            "همه چیز خیلͬ سریع اتفاق افتاد. نمودارها نشان مͬ دادند که لینوکس وی.ای. در روز\n",
            "اول مبادله سهام به مبلغ ٣٠٠ دلار برای هر سهم مبادله شده است. این سابقه نداشت. حتͬ\n",
            "اگر نمودارها را نمͬ دیدیم، به راحتͬ مͬ شد موفقیت را از رفتارهای عجیب بانکدارانͬ که گویا\n",
            "١Lehman Borthers\n",
            "\n",
            "================================================================================\n",
            "Page 200 Content:\n",
            "\n",
            "مقالات، معنای زندگͬ ٢ صفحۀ ١٩۵\n",
            "خب حالا چه کار باید بͺنم؟ اگر قرار است آن ها فلاسفه ای باشند که در مورد تکنولوژی حرف\n",
            "مͬ زنند، چرا من تکنولوژیستͬ نباشم که در مورد فلسفه حرف بزنم؟ هیچ کس حق ندارد من را\n",
            "ترسو بخواند. مͬ توانند بͽویند که بی نهایت ابله هستم ولͬ ترسو نه.\n",
            "این گیͷ ترسو نیست.\n",
            "حالا آنجا ایستاده ام. هیجان زده و در تلاش برای پیدا کردن موضوعͬ برای سخنرانͬ فردا (من\n",
            "هیچ وقت پیش از اینکه به اندازه کافͬ دیر شده باشد، شروع به آماده کردن سخنرانͬ نمͬ کنم. همین\n",
            "است که تقریبا تمام شب های قبل از سخنرانͬ مͬ توانید من را در حال فکر کردن به سخنرانͬ فردا\n",
            "پیدا کنید). من پشت میز نشسته ام و به این فکر مͬ کنم که این “جامعه شبͺه ای” چه جور چیزی\n",
            "است و نوکیا و بقیه شرکت های ارتباطاتͬ در آینده به کدام سمت خواهند رفت.\n",
            "بهترین فکری که به ذهنم مͬ رسد، توضیح دادن معنای زندگͬ است. البته بحث “معنا” چندان\n",
            "مطرح نیست. مد نظرم بیشتر قانون زندگͬ است که از این به بعد “قانون لینوس” نام خواهد گرفت.\n",
            "این قانون چیزی شبیه به قانون دوم ترمودینامیͷ است، با این تفاوت که به جای توضیح در مورد\n",
            "انحطاط تدریجͬ جهان، تکامل تدریجͬ زندگͬ را تشریح مͬ کند.\n",
            "منظورم از “تکامل”، مفهوم داروینͬ آن نیست. بحث داروین جریانͬ مستقل است و من برای\n",
            "کنفرانس وب راش، بیشتر علاقمند بودم در مورد تکامل جوامع توضیح بدهم. اینکه چͽونه از جامعه\n",
            "صنعتͬ به جامعه ارتباطاتͬ رسیده ایم و در آینده به کدام سمت خواهیم رفت و چرا. مͬ خواستم\n",
            "بحث ام به نظر جالب بیاید و آن قدر متقاعد کننده باشد که مخاطبین در طول پنل، جذب شوند.\n",
            "هر کسͬ برای سخنرانͬ برنامه خودش را داشت و برنامه این بود که از یͷ میزگرد مشترک با دو\n",
            "فیلسوف مهم، زنده بیرون بیایم.\n",
            "دلیل رشد جوامع چیست؟ نیروی پیشرانه این رشد از کجا تامین مͬ شود؟ آیا واقعا آن طور که\n",
            "خیلͬ ها تصور مͬ کنند، این تکنولوژی است که جوامع را به جلو مͬ برد؟ آیا کشف موتور بخار بود\n",
            "که باعث شد اروپا به یͷ جامعه صنعتͬ تبدیل شود و بعد نوکیا و تلفن های موبایل بودند که ما\n",
            "را به سمت جامعه ارتباطاتͬ راندند؟ به نظر مͬ رسد این دیدگاه غالب فلاسفه باشد و آن ها دوست\n",
            "دارند در این باره که چͽونه تکنولوژی باعث رشد جوامع شده حرف بزنند.\n",
            "من به عنوان یͷ تکنولوژیست، مͬ دانم که تکنولوژی چیزی را به پیش نمͬ راند. این جامعه\n",
            "است که تکنولوژی را جلو مͬ برد، نه برعکس. تکنولوژی فقط تعیین کننده محدوده کارهایی است\n",
            "که ما مͬ توانیم انجام دهیم و در عین حال هزینه هر کار را هم برای ما مشخص مͬ کند.\n",
            "تکنولوژی، همانند ابزارهایی که مͬ سازد، بسیار خرفت است. تنها جنبه جذاب تکنولوژی،\n",
            "کارهایی است که ما با استفاده از آن مͬ توانیم بͺنیم. نیروی حرکت تکنولوژی، خواسته ها و\n",
            "نیازهای انسان است. ما این روزها به خاطر حضور موبایل نیست که بیشتر با هم حرف مͬ زنیم\n",
            "بلͺه چون این روزها به آدمͬ پرچانه تبدیل شده ایم و مͬ خواهیم که بیشتر حرف بزنیم و موبایل\n",
            "نداشته ایم، آن را اختراع کرده ایم. نوکیا را هم همین طور.\n",
            "پس بحث من به این جا رسید که اگر قرار است تکامل یͷ جامعه را بررسͬ کنیم، باید عاملͬ\n",
            "که انگیزه نیازهای انسان است را بشناسیم. آیا این انگیزه پول است؟ موفقیت است؟ رابطه جنسͬ\n",
            "\n",
            "================================================================================\n",
            "Page 120 Content:\n",
            "\n",
            "فرش قرمز، بخش سوم صفحۀ ١١۵\n",
            "من بیشتر نگران برنامه ریزی برای مهاجرت به آمریͺا بودم تا به دست آوردن کار. آن دیدار برای\n",
            "من حالت مصاحبه نداشت و به نظر مͬ رسید که آن ها هم از استخدام من مطمئن هستند. به عنوان\n",
            "یͷ مصاحبه کاری، موقعیت عجیبی بود.\n",
            "بعد از روز اول، به هتلم در آن طرف خیابانͬ رفتم که دفاتر مرکزی ترنسمتا در آن واقع شده\n",
            "بودند. در حالتͬ که به خاطر پرواز چندین ساعته ذهنم به هم ریخته بود، حس مͬ کردم که کار\n",
            "جالبی است ولͬ ترنسمتایی ها دیوانه اند. در آن مرحله هیچ سیلیͺونͬ در شرکت وجود نداشت.\n",
            "هیچ سخت افزاری آنجا نبود. همه چیز روی شبیه سازها اجرا مͬ شد و نمایش اینکه آن ها مͬ توانستند\n",
            "ویندوز 3.1 را بوت کنند و بعد سولایتر را اجرا کنند من را متقاعد نمͬ کرد که کاری انجام شده.\n",
            "موقع خواب به این فکر مͬ کردم که آیا مشغول وقت تلف کردن نیستیم. دقیقا یادم هست که فکر\n",
            "مͬ کردم: شاید هیچͺدام به جایی نرسد؛ نه یͷ نوآوری تکنولوژیͷ در ترنسمتا و نه به یͷ شغل\n",
            "درست و حسابی برای من.\n",
            "آن شب را واقعا با این خیالات خوابیدم؛ البته خواب چندانͬ هم نکردم. در تخت دراز کشیده\n",
            "بودم و به برنامه های ترنسمتا فکر مͬ کردم. بعد درباره اینکه مͬ توانم در حیاط پشتͬ خانه ام یͷ\n",
            "درخت نخل داشته باشم خیال پردازی کردم. بعد هم رفتم به سراغ نشخوار ذهنͬ چیزهایی که در\n",
            "شبیه ساز دیده بودم. شب پرخاطره ای است از خیالات گذران که البته قابل مقایسه با پیچیدگͬ های\n",
            "ذهنͬ “حوا” در برخورد با میوه ممنوعه نیست.\n",
            "صبح فردا، هیجان زده بودم و تا شب هیجانم خیلͬ بیشتر شده بود. این درست همان موقعͬ\n",
            "بود که استرس هم شروع شد.\n",
            "قبل از پذیرفتن شغل در ترنسمتا، با خیلͬ ها درباره آن مشورت کرده بودم. همین که خبر\n",
            "پذیرفتن شغل از طرف من مطرح شد، ایمیل های حاوی پیشنهادهای شغلͬ دیͽر هم به سویم\n",
            "سرازیر شدند. در رد هت١ هم صحبت کردم. آن ها به من شغلͬ در رد هت پیشنهاد کردند و گفتند\n",
            "که حقوق بالاتری از ترنسمتا مͬ دهند. هرچند که اطلاعͬ از مفاد قرارداد ما نداشتند و من هم\n",
            "هنوز درباره حقوق با ترنسمتا صحبت نکرده بودم. حتͬ گفتند که سهام بیشتری از ترنسمتا هم\n",
            "به من مͬ دهند، هرچقدر هم که پیشنهاد ترنسمتا بالا باشد. اما من هیچ علاقه ای به کار در یͷ\n",
            "شرکت خاص توزیع کننده لینوکسͬ نداشتم ‐ حتͬ در شرکتͬ که از سر خوش شانسͬ دقیقا در\n",
            "وسط کالیفرنیای شمالͬ باشد.\n",
            "در نهایت من بدون اینکه رسما دنبال کار بͽردم، پنج پیشنهاد کار خوب داشتم. ترنسمتا،\n",
            "هیجان انگیزترین آن ها بود.\n",
            "من با اینکه احساس غریبی داشتم، گفتم بله. در مرحله بعد به دانشͺده اعلام کردم که مͬ خواهم\n",
            "آن جا را ترک کنم و همین جا بود که استرس شروع شد. برای من این قدم بزرگͬ بود که راه بازگشت\n",
            "نداشت. ما یͷ فرزنده جدید داشتیم، مشغول مهاجرت به یͷ کشور جدید بودیم و من داشتم\n",
            "آشیانه امن دانشͽاه هلسینکͬ را ترک مͬ کردم ‐ البته اول باید پایان نامه ام را مͬ نوشتم. الان که\n",
            "به گذشته نگاه مͬ کنم، به نظرم مͬ رسد که انجام هم زمان کلیه این تغییرات ایده خوبی بود. البته\n",
            "١RedHat\n",
            "\n",
            "================================================================================\n",
            "Page 131 Content:\n",
            "\n",
            "صفحۀ ١٢۶ فرش قرمز، بخش پنجم\n",
            "داشت که نت اسͺیپ فقط مͬ توانست بخشͬ از آن یعنͬ نسخه تحت توسعه را بازمتن کند که آن\n",
            "هم در زمان انتشار، شدیدا مشͺل داشت. شرکت نمͬ توانست تمام کد را تحت ج.ͬپی.ال. منتشر\n",
            "کند، چون صاحب بخش هایی از آن نبود. برای مثال کدهای جاوا تحت مجوز سان بودند. در\n",
            "گروه های خبری هم کسانͬ بودند که با مجوز نت اسͺیپ مشͺل داشتند. در کل، مجوز ارائه شده\n",
            "خیلͬ مهربانانه بود ولͬ افرادی مثل ریچارد استالمن حاضر نیستند با یͷ مجوز نرم و نازک کنار\n",
            "بیایند.\n",
            "من از اینکه نت اسͺیپ این گام را برداشته بود بسیار خوشحال بودم ولͬ آن را یͷ موفقیت\n",
            "شخصͬ نمͬ دانستم. یادم هست که اریͷ ریموند١ برداشتͬ شخصͬ از این جریان داشت. او از\n",
            "این جریان خیلͬ خوشحال بود. مقاله او به نام “کلیسای جامع و بازار” که فوق العاده خوب فلسفه\n",
            "بازمتنͬ و تاریخچه آن را توضیح مͬ داد، یͷ سال قبل چاپ شده و به عنوان یͺͬ از دلایل بازمتن\n",
            "شدن موزیلا، از آن نام برده شده بود. او به شͺلͬ فعال جنبش بازمتن را به پیش مͬ راند. او چندین\n",
            "بار در مناسبت های مختلف به نت اسͺیپ رفته و از آن ها خواسته بود تا مرورگر خود را بازمتن اعلام\n",
            "کنند. من فقط یͷ بار این کار را کردم. در واقع اریͷ با پیام بازمتن،ͬ به شرکت های مختلفͬ رفته\n",
            "است. من بیشتر اهل تکنولوژی بودم تا پیامبری.\n",
            "بیست و چهار ساعت از بازمتن شدن موزیلا نگذشته بود که تیمͬ استرالیایی به نام گروه\n",
            "٢ ماجولͬ برای رمزگذاری ارتباطات ارائه کرد. آن روزها شهروندان غیرآمریͺایی\n",
            "موزیلا کریپتو\n",
            "اجازه نداشتند از سایت های رمزگذاری شده آمریͺایی استفاده کنند. حالا در یͷ شب گروهͬ\n",
            "استرالیایی کاری کرده بودند که تمام مردم جهان مͬ توانستند با استفاده از آن به هر سایتͬ که\n",
            "مͬ خواهند متصل شوند. البته یͷ مشͺل هم وجود داشت. با توجه به قوانین صادرات تجاری\n",
            "آمریͺا، موزیلا نمͬ توانست از یͷ کد استرالیایی در برنامه خود استفاده کند. این شد که نت اسͺیپ\n",
            "نتوانست از یͺͬ از بهترین موفقیت های بازمتن کردن برنامه اش استفاده کند.\n",
            "ما بسیار نگران این بودیم که نت اسͺیپ موضوع روز رسانه ها شده بود. در طͬ سال اول، ما\n",
            "بسیار محتاط حرکت مͬ کردیم، چون از این مͬ ترسیدیم که کسͬ نقد کوچͺͬ از موزیلا بͺند\n",
            "و مطرح شدن این موضوع در رسانه ها باعث شود که دیͽر شرکت ها نسبت به بازمتن کردن\n",
            "نرم افزارهای شان بدبین شوند.\n",
            "ولͬ فقط دو ماه بعد از تصمیم بزرگ نت اسͺیپ، سان میͺروسیستمز هم به بازی بازمتن\n",
            "پیوست و اعلام کرد که اولین شرکت بزرگ سخت افزاری خواهد بود که به لینوکس اینترنشنال\n",
            "مͬ پیوندد. سان مͬ خواست روی سرورهایش از لینوکس پشتبانͬ کند. شرکتͬ که قبلا آن مجوز\n",
            "دوست نداشتنͬ را روی جینͬ گذاشته بود، حالا به این نتیجه رسیده بود که لینوکس ارزش جدی\n",
            "گرفته شدن دارد. گروه های خبری از تبریͷ افراد به خودشان پر شد. حالا که سان با ما بود، اخبار\n",
            "توسعه لینوکس از گروه های خبری به رسانه های تجاری منتقل شده بود. افرادی خارج از گروه های\n",
            "ما هم به ناگهان به لینوکس علاقمند شدند، البته افراد فن.ͬ\n",
            "و حالا نوبت آی .بی.ام. بود.\n",
            "١Raimond Eric ‐ از شخصیت های بسیار تاثیرگذار دنیای گنو/لینوکس\n",
            "٢Mozilla Crypto Group\n",
            "\n",
            "================================================================================\n"
          ]
        }
      ],
      "source": [
        "# Take a look at a random page of the document\n",
        "import random\n",
        "random.seed(11)\n",
        "sample_pages = random.sample(range(len(docs)), 5)\n",
        "\n",
        "for i in sample_pages:\n",
        "    print(f\"Page {i+1} Content:\\n\")\n",
        "    print(docs[i].page_content)\n",
        "    print(\"=\"*80)\n"
      ]
    },
    {
      "cell_type": "code",
      "source": [
        "def replace_white_spaces(text):\n",
        "    text = text.replace(chr(876) + ' ', 'ی ')\n",
        "    text = text.replace(chr(876) + chr(13), 'ی ')\n",
        "    return text\n",
        "\n",
        "def clean_text(text):\n",
        "    corrections = {\n",
        "        'ͬ': '',\n",
        "        'ͺ': 'ک',\n",
        "        'ͽ': 'گ',\n",
        "        'ͷ': 'ک',\n",
        "        'ͻ': '',\n",
        "        'ͼ': '',\n",
        "    }\n",
        "    for wrong_char, correct_char in corrections.items():\n",
        "        text = text.replace(wrong_char, correct_char)\n",
        "\n",
        "    text = replace_white_spaces(text)\n",
        "\n",
        "    return text"
      ],
      "metadata": {
        "id": "o7BT1mj92FkS"
      },
      "execution_count": 43,
      "outputs": []
    },
    {
      "cell_type": "markdown",
      "source": [
        "### TEST on page 116"
      ],
      "metadata": {
        "id": "1kt6lOMu02bF"
      }
    },
    {
      "cell_type": "code",
      "source": [
        "page_116_doc = docs[115].page_content\n",
        "cleaned_page_116 = replace_white_spaces(page_116_doc)\n",
        "cleaned_page_116_ = clean_text(cleaned_page_116)\n",
        "print(cleaned_page_116_)"
      ],
      "metadata": {
        "colab": {
          "base_uri": "https://localhost:8080/"
        },
        "id": "e0_T1d4M2BaM",
        "outputId": "890a3357-914a-4580-9f64-c35c541b184b"
      },
      "execution_count": 44,
      "outputs": [
        {
          "output_type": "stream",
          "name": "stdout",
          "text": [
            "فرش قرمز، بخش دوم صفحۀ ١١١\n",
            "از مسیر. مدت زیادی از حل شدن این مساله نگذشته بود که داستان جدیدی رو شد: مهندس\n",
            "از آزمایشگاه تحقیقاتی اینتل در پورتلند اورگون به من اطلاع داد که شرکتش در حال استفاده از\n",
            "لینوکس برای کشف معماری های جدید است. او از من پرسید که آیا علاقه دارم شش ماه به عنوان\n",
            "کارآموز به اینتل بروم یا نه.\n",
            "من و تاو به شکلی مبهم درباره امکان مهاجرت به آمریکا و زندگی در آن جا با یکدیگر صحبت\n",
            "کرده بودیم. او می دانست که از آبجوی ریشه گذشته، من از بودن در آمریکا بسیار لذت برد ه ام. ما\n",
            "به این نتیجه مشترک رسیده بود که فرصت ها در آمریکا بهتر هستند ‐ چه برسد به آب و هوا ‐\n",
            "(تازه من به این نتیجه هم رسیده بودم که شیوه ایجاد انگیزه در کارمندان در آمریکا در مقایسه با\n",
            "اروپا واقع بینانه تر است و منجر به محصولات بهتری هم می شود. در فنلاند اگر یک نفر از همکاران\n",
            "خود بسیار بهتر باشد، بدون سر و صدا کمی بیشتر پول می گیرد. در آمریکا این پول بیشتر است\n",
            "و خیلی هم بهتر کار می کند). دوره کارآموزی در اینتل فرصت خوبی بود برای محک زدن شرایط\n",
            "و ما توافق کردیم که من از این موقعیت استفاده کنم. من دل نگرانی هایی هم داشتم. مثلا راحت\n",
            "نبودم که دانشکده را بدون گرفتن مدرک ترک کنم. شاید به خاطر تجربه پدربزرگ پروفسورم،\n",
            "احساس خوبی نسبت به این نداشتم که دانشگاه راه رها کنم. در نهایت، احساسات من اصولا در\n",
            "تصمیم گیری دخیل نشد چون همان مهندس با من تماس گرفت و گفت که برای رفتن به اینتل\n",
            "و کار در آن جا، نیازمند ویزای کار شش ماهه هستم که احتمال موافقت اداره مهاجرت با آن کم\n",
            "است.\n",
            "ما در هلسینکی ماندیم. در روزهای شادمانی آخر سال ،١٩٩۶ من تلاش می کردم تا سانتیمتر به\n",
            "سانتیمتر به مدرک لیسانسم نزدیک تر شوم. برای کسب امتیازات لازم، فقط باید یک دوره کوچک\n",
            "دیگر می گذراندم و پایان نامه ام را هم می نوشتم. عجیب است که این اولین باری می شد که لینوکس\n",
            "که اکثر ساعت های عمرم را به آن گذرانده بودم، برایم کاربردی تحصیلی پیدا می کرد.\n",
            "سال ١٩٩۶ سال بیداری من بود. در فنلاند برابری طلب، حقوق شما بعد از سه سال کار\n",
            "باید افزایش پیدا کند. افزایش حقوق برای من مانند تلنگری بود که می گفت سه سال است دارم\n",
            "در دانشکده کار می کنم. آیا می خواستم همه زندگی ام را همین جا بگذارنم؟ آیا برنامه ام این بود\n",
            "که جای پدربزرگم را بگیرم؟ یادتان هست که او را در ابتدای همین کتاب چطور توصیف کردم؟\n",
            "کچل، دارای اضافه وزن و بدون هیچ بویی. حالا دیگر خودم را بیشتر از قبل در آینه نگاه و بررس\n",
            "می کردم. خط جلوی موهایم چند میلیمتری عقب رفته بود و چند کیلو چربی اضافی در شکم سابقا\n",
            "لاغرم دیده می شد. بیست و شش ساله بودم و برای اولین بار در زندگی احساس پیری می کردم.\n",
            "هفت سال بود که در دانشکده بودم و می دانستم که همین که اراده کنم، می توانستم کارها را جمع\n",
            "و جور کنم و فارغ التحصیل شوم.\n",
            "\n"
          ]
        }
      ]
    },
    {
      "cell_type": "code",
      "execution_count": 46,
      "metadata": {
        "id": "SztAjRYEhnHA"
      },
      "outputs": [],
      "source": [
        "cleaned_docs = []\n",
        "for doc in docs:\n",
        "    temp_content = replace_white_spaces(doc.page_content)\n",
        "    cleaned_content = clean_text(temp_content)\n",
        "\n",
        "    cleaned_doc = type(doc)(page_content=cleaned_content, metadata=doc.metadata)\n",
        "    cleaned_docs.append(cleaned_doc)"
      ]
    },
    {
      "cell_type": "code",
      "source": [
        "random.seed(11)\n",
        "sample_pages = random.sample(range(len(cleaned_docs)), 5)\n",
        "\n",
        "for i in sample_pages:\n",
        "    print(f\"Page {i+1} Content:\\n\")\n",
        "    print(cleaned_docs[i].page_content)\n",
        "    print(\"=\"*80)"
      ],
      "metadata": {
        "colab": {
          "base_uri": "https://localhost:8080/"
        },
        "id": "1wEyUjcW3Nqa",
        "outputId": "6558f96b-2a27-4910-cb1b-21b6abb365ec"
      },
      "execution_count": 50,
      "outputs": [
        {
          "output_type": "stream",
          "name": "stdout",
          "text": [
            "Page 116 Content:\n",
            "\n",
            "فرش قرمز، بخش دوم صفحۀ ١١١\n",
            "از مسیر. مدت زیادی از حل شدن این مساله نگذشته بود که داستان جدیدی رو شد: مهندس\n",
            "از آزمایشگاه تحقیقاتی اینتل در پورتلند اورگون به من اطلاع داد که شرکتش در حال استفاده از\n",
            "لینوکس برای کشف معماری های جدید است. او از من پرسید که آیا علاقه دارم شش ماه به عنوان\n",
            "کارآموز به اینتل بروم یا نه.\n",
            "من و تاو به شکلی مبهم درباره امکان مهاجرت به آمریکا و زندگی در آن جا با یکدیگر صحبت\n",
            "کرده بودیم. او می دانست که از آبجوی ریشه گذشته، من از بودن در آمریکا بسیار لذت برد ه ام. ما\n",
            "به این نتیجه مشترک رسیده بود که فرصت ها در آمریکا بهتر هستند ‐ چه برسد به آب و هوا ‐\n",
            "(تازه من به این نتیجه هم رسیده بودم که شیوه ایجاد انگیزه در کارمندان در آمریکا در مقایسه با\n",
            "اروپا واقع بینانه تر است و منجر به محصولات بهتری هم می شود. در فنلاند اگر یک نفر از همکاران\n",
            "خود بسیار بهتر باشد، بدون سر و صدا کمی بیشتر پول می گیرد. در آمریکا این پول بیشتر است\n",
            "و خیلی هم بهتر کار می کند). دوره کارآموزی در اینتل فرصت خوبی بود برای محک زدن شرایط\n",
            "و ما توافق کردیم که من از این موقعیت استفاده کنم. من دل نگرانی هایی هم داشتم. مثلا راحت\n",
            "نبودم که دانشکده را بدون گرفتن مدرک ترک کنم. شاید به خاطر تجربه پدربزرگ پروفسورم،\n",
            "احساس خوبی نسبت به این نداشتم که دانشگاه راه رها کنم. در نهایت، احساسات من اصولا در\n",
            "تصمیم گیری دخیل نشد چون همان مهندس با من تماس گرفت و گفت که برای رفتن به اینتل\n",
            "و کار در آن جا، نیازمند ویزای کار شش ماهه هستم که احتمال موافقت اداره مهاجرت با آن کم\n",
            "است.\n",
            "ما در هلسینکی ماندیم. در روزهای شادمانی آخر سال ،١٩٩۶ من تلاش می کردم تا سانتیمتر به\n",
            "سانتیمتر به مدرک لیسانسم نزدیک تر شوم. برای کسب امتیازات لازم، فقط باید یک دوره کوچک\n",
            "دیگر می گذراندم و پایان نامه ام را هم می نوشتم. عجیب است که این اولین باری می شد که لینوکس\n",
            "که اکثر ساعت های عمرم را به آن گذرانده بودم، برایم کاربردی تحصیلی پیدا می کرد.\n",
            "سال ١٩٩۶ سال بیداری من بود. در فنلاند برابری طلب، حقوق شما بعد از سه سال کار\n",
            "باید افزایش پیدا کند. افزایش حقوق برای من مانند تلنگری بود که می گفت سه سال است دارم\n",
            "در دانشکده کار می کنم. آیا می خواستم همه زندگی ام را همین جا بگذارنم؟ آیا برنامه ام این بود\n",
            "که جای پدربزرگم را بگیرم؟ یادتان هست که او را در ابتدای همین کتاب چطور توصیف کردم؟\n",
            "کچل، دارای اضافه وزن و بدون هیچ بویی. حالا دیگر خودم را بیشتر از قبل در آینه نگاه و بررس\n",
            "می کردم. خط جلوی موهایم چند میلیمتری عقب رفته بود و چند کیلو چربی اضافی در شکم سابقا\n",
            "لاغرم دیده می شد. بیست و شش ساله بودم و برای اولین بار در زندگی احساس پیری می کردم.\n",
            "هفت سال بود که در دانشکده بودم و می دانستم که همین که اراده کنم، می توانستم کارها را جمع\n",
            "و جور کنم و فارغ التحصیل شوم.\n",
            "\n",
            "================================================================================\n",
            "Page 144 Content:\n",
            "\n",
            "فرش قرمز، بخش هفتم صفحۀ ١٣٩\n",
            "١\n",
            "نداشتم. لری که از این کارها سر در می آورد و خیلی ها را هم می شناخت من را به لمن برادرز\n",
            "معرفی کرد. به نظرم اگر لری من را معرفی نکرده بود، لمن اصلا من را تحویل نمی گرفت چون\n",
            "مشتری های بسیار بزرگ تری داشت. او قول داد که بهترین گزینه را پیدا و به من اعلام می کند. در\n",
            "همین حین و دو روز بعد از اینکه سهام عام شده بود، کسی از اداره نیروی انسانی ردهت یا شاید\n",
            "هم وکیل آن ها با من تماس گرفت و گفت که پیش از عام کردن سهام، آن را قسمت کرده اند. از\n",
            "این جمله هم سر در نمی آوردم پس به سراغ پاکت سهام رفتم که هنوز هم بازش نکرده بودم. در\n",
            "پاکت به زبان ساده توضیح داده بود که سهام من دوبرابر شده است.\n",
            "نیم میلیون دلار من، حالا شده بود یک میلیون دلار!\n",
            "با وجود تصویری که به عنوان یک گیک توده ای و پرهیزگار که در فقر زندگی می کند از من در\n",
            "رسانه ها بازتاب پیدا کرده بود، این جریان عملا باعث شده بود که به هذیان گفتم بیفتم.\n",
            "ماجرا همین بود.\n",
            "من نشستم و کل کاغذهای قانونی ردهت را خواندم. بله من برای فروش سهام باید ١٨٠ روز\n",
            "صبر می کردم.\n",
            "درک می کنید ١٨٠ روز چقدر طولانی است وقتی که شما برای اولین بار روی کاغذ میلیونر\n",
            "شده اید؟\n",
            "حالا یک ورزش جدید داشتم: بررسی روزانه ارزش سهام ردهت که در طول شش ماه بعد از\n",
            "عام شدن، افزایش می یافت. سهام به شکل پیوسته زیاد می شد و چند باری هم جهش کرد و باز\n",
            "هم به رشد ادامه داد. یکبار هم سهام ردهت دوباره تقسیم شد و در بهترین حالت، من ۵ میلیون\n",
            "دلار پول داشتم.\n",
            "ردهت با مبلغ پایینی شروع کرد و در وال استریت قدم به قدم بالا رفت و هر واقعه ای که\n",
            "حتی ربط اندکی هم به اینترنت داشت، باعث رشد آن می شد چون به نوبه خود باعث “کشف”\n",
            "مجدد لینوکس می شد. ما در طول زمستان ،١٩٩٩ سهام منتخب بورس بودیم. متخصصان بورس\n",
            "به تلویزیون می آمدند و در مورد این سیستم عامل عجیب و کوچک که در حال به زانو درآوردن\n",
            "مایکروسافت است صحبت می کردند. تلفن من هم دائما زنگ می زد. اوج لذت، روزی بود که\n",
            "وی.ای. لینوکس هم سهام خود را در نهم دسامبر به بورس عرضه کرد. این موفقیت ماورای تصور\n",
            "همگان بود.\n",
            "من و لری آ گوستین برای حضور در اولین جلسه خرید و فروش عمومی سهام به سانفرانسیسکو\n",
            "رفته بودیم. من لباس همیشگی ام را پوشیده بودم یعنی یک تی شرت رایگان و صندل. همسر و\n",
            "بچه ها را هم با خودمان برده بودیم و صحنه وول خوردن بچه های نوپا در مسیر رفت و آمد بانکداران\n",
            "بزرگ دنیا باید صحنه بامزه ای بوده باشد.\n",
            "همه چیز خیلی سریع اتفاق افتاد. نمودارها نشان می دادند که لینوکس وی.ای. در روز\n",
            "اول مبادله سهام به مبلغ ٣٠٠ دلار برای هر سهم مبادله شده است. این سابقه نداشت. حت\n",
            "اگر نمودارها را نمی دیدیم، به راحتی می شد موفقیت را از رفتارهای عجیب بانکدارانی که گویا\n",
            "١Lehman Borthers\n",
            "\n",
            "================================================================================\n",
            "Page 200 Content:\n",
            "\n",
            "مقالات، معنای زندگی ٢ صفحۀ ١٩۵\n",
            "خب حالا چه کار باید بکنم؟ اگر قرار است آن ها فلاسفه ای باشند که در مورد تکنولوژی حرف\n",
            "می زنند، چرا من تکنولوژیستی نباشم که در مورد فلسفه حرف بزنم؟ هیچ کس حق ندارد من را\n",
            "ترسو بخواند. می توانند بگویند که بی نهایت ابله هستم ولی ترسو نه.\n",
            "این گیک ترسو نیست.\n",
            "حالا آنجا ایستاده ام. هیجان زده و در تلاش برای پیدا کردن موضوعی برای سخنرانی فردا (من\n",
            "هیچ وقت پیش از اینکه به اندازه کافی دیر شده باشد، شروع به آماده کردن سخنرانی نمی کنم. همین\n",
            "است که تقریبا تمام شب های قبل از سخنرانی می توانید من را در حال فکر کردن به سخنرانی فردا\n",
            "پیدا کنید). من پشت میز نشسته ام و به این فکر می کنم که این “جامعه شبکه ای” چه جور چیزی\n",
            "است و نوکیا و بقیه شرکت های ارتباطاتی در آینده به کدام سمت خواهند رفت.\n",
            "بهترین فکری که به ذهنم می رسد، توضیح دادن معنای زندگی است. البته بحث “معنا” چندان\n",
            "مطرح نیست. مد نظرم بیشتر قانون زندگی است که از این به بعد “قانون لینوس” نام خواهد گرفت.\n",
            "این قانون چیزی شبیه به قانون دوم ترمودینامیک است، با این تفاوت که به جای توضیح در مورد\n",
            "انحطاط تدریجی جهان، تکامل تدریجی زندگی را تشریح می کند.\n",
            "منظورم از “تکامل”، مفهوم داروینی آن نیست. بحث داروین جریانی مستقل است و من برای\n",
            "کنفرانس وب راش، بیشتر علاقمند بودم در مورد تکامل جوامع توضیح بدهم. اینکه چگونه از جامعه\n",
            "صنعتی به جامعه ارتباطاتی رسیده ایم و در آینده به کدام سمت خواهیم رفت و چرا. می خواستم\n",
            "بحث ام به نظر جالب بیاید و آن قدر متقاعد کننده باشد که مخاطبین در طول پنل، جذب شوند.\n",
            "هر کسی برای سخنرانی برنامه خودش را داشت و برنامه این بود که از یک میزگرد مشترک با دو\n",
            "فیلسوف مهم، زنده بیرون بیایم.\n",
            "دلیل رشد جوامع چیست؟ نیروی پیشرانه این رشد از کجا تامین می شود؟ آیا واقعا آن طور که\n",
            "خیلی ها تصور می کنند، این تکنولوژی است که جوامع را به جلو می برد؟ آیا کشف موتور بخار بود\n",
            "که باعث شد اروپا به یک جامعه صنعتی تبدیل شود و بعد نوکیا و تلفن های موبایل بودند که ما\n",
            "را به سمت جامعه ارتباطاتی راندند؟ به نظر می رسد این دیدگاه غالب فلاسفه باشد و آن ها دوست\n",
            "دارند در این باره که چگونه تکنولوژی باعث رشد جوامع شده حرف بزنند.\n",
            "من به عنوان یک تکنولوژیست، می دانم که تکنولوژی چیزی را به پیش نمی راند. این جامعه\n",
            "است که تکنولوژی را جلو می برد، نه برعکس. تکنولوژی فقط تعیین کننده محدوده کارهایی است\n",
            "که ما می توانیم انجام دهیم و در عین حال هزینه هر کار را هم برای ما مشخص می کند.\n",
            "تکنولوژی، همانند ابزارهایی که می سازد، بسیار خرفت است. تنها جنبه جذاب تکنولوژی،\n",
            "کارهایی است که ما با استفاده از آن می توانیم بکنیم. نیروی حرکت تکنولوژی، خواسته ها و\n",
            "نیازهای انسان است. ما این روزها به خاطر حضور موبایل نیست که بیشتر با هم حرف می زنیم\n",
            "بلکه چون این روزها به آدمی پرچانه تبدیل شده ایم و می خواهیم که بیشتر حرف بزنیم و موبایل\n",
            "نداشته ایم، آن را اختراع کرده ایم. نوکیا را هم همین طور.\n",
            "پس بحث من به این جا رسید که اگر قرار است تکامل یک جامعه را بررسی کنیم، باید عامل\n",
            "که انگیزه نیازهای انسان است را بشناسیم. آیا این انگیزه پول است؟ موفقیت است؟ رابطه جنس\n",
            "\n",
            "================================================================================\n",
            "Page 120 Content:\n",
            "\n",
            "فرش قرمز، بخش سوم صفحۀ ١١۵\n",
            "من بیشتر نگران برنامه ریزی برای مهاجرت به آمریکا بودم تا به دست آوردن کار. آن دیدار برای\n",
            "من حالت مصاحبه نداشت و به نظر می رسید که آن ها هم از استخدام من مطمئن هستند. به عنوان\n",
            "یک مصاحبه کاری، موقعیت عجیبی بود.\n",
            "بعد از روز اول، به هتلم در آن طرف خیابانی رفتم که دفاتر مرکزی ترنسمتا در آن واقع شده\n",
            "بودند. در حالتی که به خاطر پرواز چندین ساعته ذهنم به هم ریخته بود، حس می کردم که کار\n",
            "جالبی است ولی ترنسمتایی ها دیوانه اند. در آن مرحله هیچ سیلیکونی در شرکت وجود نداشت.\n",
            "هیچ سخت افزاری آنجا نبود. همه چیز روی شبیه سازها اجرا می شد و نمایش اینکه آن ها می توانستند\n",
            "ویندوز 3.1 را بوت کنند و بعد سولایتر را اجرا کنند من را متقاعد نمی کرد که کاری انجام شده.\n",
            "موقع خواب به این فکر می کردم که آیا مشغول وقت تلف کردن نیستیم. دقیقا یادم هست که فکر\n",
            "می کردم: شاید هیچکدام به جایی نرسد؛ نه یک نوآوری تکنولوژیک در ترنسمتا و نه به یک شغل\n",
            "درست و حسابی برای من.\n",
            "آن شب را واقعا با این خیالات خوابیدم؛ البته خواب چندانی هم نکردم. در تخت دراز کشیده\n",
            "بودم و به برنامه های ترنسمتا فکر می کردم. بعد درباره اینکه می توانم در حیاط پشتی خانه ام یک\n",
            "درخت نخل داشته باشم خیال پردازی کردم. بعد هم رفتم به سراغ نشخوار ذهنی چیزهایی که در\n",
            "شبیه ساز دیده بودم. شب پرخاطره ای است از خیالات گذران که البته قابل مقایسه با پیچیدگی های\n",
            "ذهنی “حوا” در برخورد با میوه ممنوعه نیست.\n",
            "صبح فردا، هیجان زده بودم و تا شب هیجانم خیلی بیشتر شده بود. این درست همان موقع\n",
            "بود که استرس هم شروع شد.\n",
            "قبل از پذیرفتن شغل در ترنسمتا، با خیلی ها درباره آن مشورت کرده بودم. همین که خبر\n",
            "پذیرفتن شغل از طرف من مطرح شد، ایمیل های حاوی پیشنهادهای شغلی دیگر هم به سویم\n",
            "سرازیر شدند. در رد هت١ هم صحبت کردم. آن ها به من شغلی در رد هت پیشنهاد کردند و گفتند\n",
            "که حقوق بالاتری از ترنسمتا می دهند. هرچند که اطلاعی از مفاد قرارداد ما نداشتند و من هم\n",
            "هنوز درباره حقوق با ترنسمتا صحبت نکرده بودم. حتی گفتند که سهام بیشتری از ترنسمتا هم\n",
            "به من می دهند، هرچقدر هم که پیشنهاد ترنسمتا بالا باشد. اما من هیچ علاقه ای به کار در یک\n",
            "شرکت خاص توزیع کننده لینوکسی نداشتم ‐ حتی در شرکتی که از سر خوش شانسی دقیقا در\n",
            "وسط کالیفرنیای شمالی باشد.\n",
            "در نهایت من بدون اینکه رسما دنبال کار بگردم، پنج پیشنهاد کار خوب داشتم. ترنسمتا،\n",
            "هیجان انگیزترین آن ها بود.\n",
            "من با اینکه احساس غریبی داشتم، گفتم بله. در مرحله بعد به دانشکده اعلام کردم که می خواهم\n",
            "آن جا را ترک کنم و همین جا بود که استرس شروع شد. برای من این قدم بزرگی بود که راه بازگشت\n",
            "نداشت. ما یک فرزنده جدید داشتیم، مشغول مهاجرت به یک کشور جدید بودیم و من داشتم\n",
            "آشیانه امن دانشگاه هلسینکی را ترک می کردم ‐ البته اول باید پایان نامه ام را می نوشتم. الان که\n",
            "به گذشته نگاه می کنم، به نظرم می رسد که انجام هم زمان کلیه این تغییرات ایده خوبی بود. البته\n",
            "١RedHat\n",
            "\n",
            "================================================================================\n",
            "Page 131 Content:\n",
            "\n",
            "صفحۀ ١٢۶ فرش قرمز، بخش پنجم\n",
            "داشت که نت اسکیپ فقط می توانست بخشی از آن یعنی نسخه تحت توسعه را بازمتن کند که آن\n",
            "هم در زمان انتشار، شدیدا مشکل داشت. شرکت نمی توانست تمام کد را تحت ج.پی.ال. منتشر\n",
            "کند، چون صاحب بخش هایی از آن نبود. برای مثال کدهای جاوا تحت مجوز سان بودند. در\n",
            "گروه های خبری هم کسانی بودند که با مجوز نت اسکیپ مشکل داشتند. در کل، مجوز ارائه شده\n",
            "خیلی مهربانانه بود ولی افرادی مثل ریچارد استالمن حاضر نیستند با یک مجوز نرم و نازک کنار\n",
            "بیایند.\n",
            "من از اینکه نت اسکیپ این گام را برداشته بود بسیار خوشحال بودم ولی آن را یک موفقیت\n",
            "شخصی نمی دانستم. یادم هست که اریک ریموند١ برداشتی شخصی از این جریان داشت. او از\n",
            "این جریان خیلی خوشحال بود. مقاله او به نام “کلیسای جامع و بازار” که فوق العاده خوب فلسفه\n",
            "بازمتنی و تاریخچه آن را توضیح می داد، یک سال قبل چاپ شده و به عنوان یکی از دلایل بازمتن\n",
            "شدن موزیلا، از آن نام برده شده بود. او به شکلی فعال جنبش بازمتن را به پیش می راند. او چندین\n",
            "بار در مناسبت های مختلف به نت اسکیپ رفته و از آن ها خواسته بود تا مرورگر خود را بازمتن اعلام\n",
            "کنند. من فقط یک بار این کار را کردم. در واقع اریک با پیام بازمتن،ی به شرکت های مختلفی رفته\n",
            "است. من بیشتر اهل تکنولوژی بودم تا پیامبری.\n",
            "بیست و چهار ساعت از بازمتن شدن موزیلا نگذشته بود که تیمی استرالیایی به نام گروه\n",
            "٢ ماجولی برای رمزگذاری ارتباطات ارائه کرد. آن روزها شهروندان غیرآمریکایی\n",
            "موزیلا کریپتو\n",
            "اجازه نداشتند از سایت های رمزگذاری شده آمریکایی استفاده کنند. حالا در یک شب گروه\n",
            "استرالیایی کاری کرده بودند که تمام مردم جهان می توانستند با استفاده از آن به هر سایتی که\n",
            "می خواهند متصل شوند. البته یک مشکل هم وجود داشت. با توجه به قوانین صادرات تجاری\n",
            "آمریکا، موزیلا نمی توانست از یک کد استرالیایی در برنامه خود استفاده کند. این شد که نت اسکیپ\n",
            "نتوانست از یکی از بهترین موفقیت های بازمتن کردن برنامه اش استفاده کند.\n",
            "ما بسیار نگران این بودیم که نت اسکیپ موضوع روز رسانه ها شده بود. در طی سال اول، ما\n",
            "بسیار محتاط حرکت می کردیم، چون از این می ترسیدیم که کسی نقد کوچکی از موزیلا بکند\n",
            "و مطرح شدن این موضوع در رسانه ها باعث شود که دیگر شرکت ها نسبت به بازمتن کردن\n",
            "نرم افزارهای شان بدبین شوند.\n",
            "ولی فقط دو ماه بعد از تصمیم بزرگ نت اسکیپ، سان میکروسیستمز هم به بازی بازمتن\n",
            "پیوست و اعلام کرد که اولین شرکت بزرگ سخت افزاری خواهد بود که به لینوکس اینترنشنال\n",
            "می پیوندد. سان می خواست روی سرورهایش از لینوکس پشتبانی کند. شرکتی که قبلا آن مجوز\n",
            "دوست نداشتنی را روی جینی گذاشته بود، حالا به این نتیجه رسیده بود که لینوکس ارزش جدی\n",
            "گرفته شدن دارد. گروه های خبری از تبریک افراد به خودشان پر شد. حالا که سان با ما بود، اخبار\n",
            "توسعه لینوکس از گروه های خبری به رسانه های تجاری منتقل شده بود. افرادی خارج از گروه های\n",
            "ما هم به ناگهان به لینوکس علاقمند شدند، البته افراد فن.\n",
            "و حالا نوبت آی .بی.ام. بود.\n",
            "١Raimond Eric ‐ از شخصیت های بسیار تاثیرگذار دنیای گنو/لینوکس\n",
            "٢Mozilla Crypto Group\n",
            "\n",
            "================================================================================\n"
          ]
        }
      ]
    },
    {
      "cell_type": "markdown",
      "metadata": {
        "id": "9aG7mCPiyQ1h"
      },
      "source": [
        "\n",
        "<h3 dir=rtl align=right style=\"line-height:200%;font-family:vazir;color:#0099cc\">\n",
        "<font face=\"vazir\" color=\"#0099cc\">\n",
        "لینک وب\n",
        "</font>\n",
        "</h3>\n",
        "\n",
        "<p dir=rtl style=\"direction: rtl; text-align: justify; line-height:200%; font-family:vazir; font-size:medium\">\n",
        "<font face=\"vazir\">\n",
        "محتوای دیگری که قصد استفاده از آن را داریم کتاب «لینوکس و زندگی» از <a href=\"https://jadi.net/\" target=\"_blank\">جادی</a> است که به‌صورت آزاد در دسترس است. با این حال، این کتاب نسخه‌ی <code>PDF</code> نداشته و می‌خواهیم آن را مستقیماً از بستر وب بخوانیم. بنابراین نیاز است به‌کمک توابع مرتبط لنگ‌چین، محتوای لینک <a href=\"https://linuxbook.ir/all.html\" target=\"_blank\"><code dir=ltr>https://linuxbook.ir/all.html</code></a> را بارگیری کنید. برای این کار می‌توانید از تابع <code>WebBaseLoader</code> کمک بگیرید.\n",
        "</font>\n",
        "</p>"
      ]
    },
    {
      "cell_type": "code",
      "source": [
        "def printer(documents):\n",
        "    print(\"The number of documents:\", len(documents), '\\n')\n",
        "    print(\"Metadata:\\n\", documents[0].metadata, '\\n')\n",
        "    # remove multiple spaces and newlines\n",
        "    content = ' '.join(documents[0].page_content.split())\n",
        "    print(\"Page content (first 250 characters):\\n\", content[:250], '\\n')"
      ],
      "metadata": {
        "id": "q9FAAl2__0rz"
      },
      "execution_count": 51,
      "outputs": []
    },
    {
      "cell_type": "code",
      "execution_count": 52,
      "metadata": {
        "id": "iDJwozJ_yQ1i",
        "colab": {
          "base_uri": "https://localhost:8080/"
        },
        "outputId": "79450575-2ac4-4566-e11b-01c6f922fb8c"
      },
      "outputs": [
        {
          "output_type": "stream",
          "name": "stderr",
          "text": [
            "WARNING:langchain_community.utils.user_agent:USER_AGENT environment variable not set, consider setting it to identify your requests.\n"
          ]
        },
        {
          "output_type": "stream",
          "name": "stdout",
          "text": [
            "The number of documents: 1 \n",
            "\n",
            "Metadata:\n",
            " {'source': 'https://linuxbook.ir/all.html', 'title': 'لینوکس و زندگی | لینوکس و زندگی', 'language': 'No language found.'} \n",
            "\n",
            "Page content (first 250 characters):\n",
            " لینوکس و زندگی | لینوکس و زندگی Toggle navigation لینوکس و زندگی روی جلد درباره دانلود حمایت لینوکس و زندگی فهرست لینوکس و زندگی. نوشته جادی www.jadi.netبرای دسترسی به آخرین نسخه کتاب در فرمت‌های مختلف و همچنین حمایت مالی از پروژه کتاب‌هایی برای گیک‌ \n",
            "\n"
          ]
        }
      ],
      "source": [
        "from langchain_community.document_loaders import WebBaseLoader\n",
        "\n",
        "web_loader = WebBaseLoader(\"https://linuxbook.ir/all.html\")\n",
        "web_docs = web_loader.load()\n",
        "\n",
        "printer(web_docs)"
      ]
    },
    {
      "cell_type": "code",
      "execution_count": 55,
      "metadata": {
        "id": "vbd9oLEcyQ1i",
        "colab": {
          "base_uri": "https://localhost:8080/"
        },
        "outputId": "233bf422-955f-44bf-e096-b4db1e378c67"
      },
      "outputs": [
        {
          "output_type": "stream",
          "name": "stdout",
          "text": [
            "\n",
            "\n",
            "\n",
            "\n",
            "\n",
            "\n",
            "لینوکس و زندگی | لینوکس و زندگی\n",
            "\n",
            "\n",
            "\n",
            "\n",
            "\n",
            "\n",
            "\n",
            "\n",
            "\n",
            "\n",
            "Toggle navigation\n",
            "\n",
            "\n",
            "\n",
            "\n",
            "لینوکس و زندگی\n",
            "\n",
            "\n",
            "\n",
            "روی جلد\n",
            "درباره\n",
            "دانلود\n",
            "حمایت\n",
            "\n",
            "\n",
            "\n",
            "\n",
            "\n",
            "\n",
            "\n",
            "\n",
            "\n",
            "\n",
            "\n",
            "\n",
            "\n",
            "لینوکس و زندگی\n",
            "\n",
            "\n",
            "فهرست \n",
            "لینوکس و زندگی. نوشته جادی www.jadi.netبرای دسترسی به آخرین نسخه کتاب در فرمت‌های مختلف و همچنین حمایت مالی از پروژه کتاب‌هایی برای گیک‌ها، به سایت www.jadi.ir و بخش حمایت مراجعه کنید.درباره این کتاب \n",
            "این کتاب سعی می کنه به خواننده ایده‌هایی درمورد زندگی و لینوکس بده. چرا زندگی؟ چون لینوکس یک فلسفه است و براومده از یک جامعه و کسی که می خواد توش موفق باشه با\n"
          ]
        }
      ],
      "source": [
        "# Look at the first 512 characters of the page content\n",
        "print(web_docs[0].page_content[:512])"
      ]
    },
    {
      "cell_type": "code",
      "source": [
        "from langchain_core.documents import Document\n",
        "\n",
        "raw_web_content = web_docs[0].page_content\n",
        "\n",
        "start_index = raw_web_content.find(\"لینوکس و زندگی\")\n",
        "if start_index == -1:\n",
        "    print(\"خطا: متن 'لینوکس و زندگی' پیدا نشد!\")\n",
        "else:\n",
        "    cleaned_web_content = raw_web_content[start_index:]\n",
        "\n",
        "    cleaned_web_content = ' '.join(cleaned_web_content.split())\n",
        "\n",
        "    cleaned_web_doc = Document(page_content=cleaned_web_content, metadata=web_docs[0].metadata)\n",
        "\n",
        "    print(\"✅ متن وب تمیز شد!\\n\")\n",
        "    print(\"تعداد کاراکترهای کل متن:\", len(cleaned_web_doc.page_content))\n",
        "    print(\"\\nنمونه‌ی 250 کاراکتر اول:\\n\")\n",
        "    print(cleaned_web_doc.page_content[:512])\n"
      ],
      "metadata": {
        "colab": {
          "base_uri": "https://localhost:8080/"
        },
        "id": "oKLIN9D4A5e5",
        "outputId": "0349b85a-c4f7-4df5-e37d-dd48fd396ccd"
      },
      "execution_count": 58,
      "outputs": [
        {
          "output_type": "stream",
          "name": "stdout",
          "text": [
            "✅ متن وب تمیز شد!\n",
            "\n",
            "تعداد کاراکترهای کل متن: 237081\n",
            "\n",
            "نمونه‌ی 250 کاراکتر اول:\n",
            "\n",
            "لینوکس و زندگی | لینوکس و زندگی Toggle navigation لینوکس و زندگی روی جلد درباره دانلود حمایت لینوکس و زندگی فهرست لینوکس و زندگی. نوشته جادی www.jadi.netبرای دسترسی به آخرین نسخه کتاب در فرمت‌های مختلف و همچنین حمایت مالی از پروژه کتاب‌هایی برای گیک‌ها، به سایت www.jadi.ir و بخش حمایت مراجعه کنید.درباره این کتاب این کتاب سعی می کنه به خواننده ایده‌هایی درمورد زندگی و لینوکس بده. چرا زندگی؟ چون لینوکس یک فلسفه است و براومده از یک جامعه و کسی که می خواد توش موفق باشه باید درک فلسفی سالمی از زندگی داشته باشه و\n"
          ]
        }
      ]
    },
    {
      "cell_type": "markdown",
      "metadata": {
        "id": "wDcp26NgyQ1i"
      },
      "source": [
        "<h3 dir=rtl align=right style=\"line-height:200%;font-family:vazir;color:#0099cc\">\n",
        "<font face=\"vazir\" color=\"#0099cc\">\n",
        "صفحه‌ی ویکی‌پدیا\n",
        "</font>\n",
        "</h3>\n",
        "\n",
        "<p dir=rtl style=\"direction: rtl; text-align: justify; line-height:200%; font-family:vazir; font-size:medium\">\n",
        "<font face=\"vazir\">\n",
        "علاوه‌بر محتواهایی که تاکنون در دسترس ما قرار گرفت قصد داریم از محتوای موجود در صفحات ویکی‌پدیای مرتبط با آن‌ها نیز استفاده کنیم. در لیست زیر عنوان چند صفحه‌ی ویکی‌پدیا قرار داده شده که نیاز است با کمک توابعی همچون <code>WikipediaLoader</code> آن‌ها را بارگیری کنید.\n",
        "\n",
        "<ul dir=rtl>\n",
        "<li>ریچارد استالمن</li>\n",
        "<li>لینوس توروالدز</li>\n",
        "<li>لینوکس</li>\n",
        "<li>پروژه گنو</li>\n",
        "<li>نرم‌افزار آزاد</li>\n",
        "<li>بنیاد نرم‌افزار آزاد</li>\n",
        "</ul>\n",
        "</font>\n",
        "</p>\n",
        "\n",
        "<p dir=rtl style=\"direction: rtl; text-align: justify; line-height:200%; font-family:vazir; font-size:medium\">\n",
        "<font face=\"vazir\">\n",
        "<span style=\"color:red\"><b>توجه:</b></span>\n",
        "اگر چندین درخواست پشت همدیگر به <i>API</i> ویکی‌پدیا ارسال کنید ممکن است درخواست‌های شما مسدود شود و نیاز است بین درخواست‌های خود اندکی صبر کنید. برای این کار می‌توانید از <code>time.sleep</code> استفاده کرده و بین درخواست‌های خود چند ثانیه وقفه‌ی تصادفی ایجاد کنید. همچنین می‌توانید این کار را در یک حلقه انجام داده و مشخص کنید تا وقتی‌که صفحه‌ی مورد نظر بارگیری نشده چند ثانیه صبر کند و مجدد درخواست دهد.\n",
        "</font>\n",
        "</p>"
      ]
    },
    {
      "cell_type": "code",
      "source": [
        "!pip install wikipedia"
      ],
      "metadata": {
        "colab": {
          "base_uri": "https://localhost:8080/"
        },
        "id": "KQlJTlS7Emm_",
        "outputId": "957493c0-04f2-452d-d4b1-26d4f180f243"
      },
      "execution_count": 69,
      "outputs": [
        {
          "output_type": "stream",
          "name": "stdout",
          "text": [
            "Collecting wikipedia\n",
            "  Downloading wikipedia-1.4.0.tar.gz (27 kB)\n",
            "  Preparing metadata (setup.py) ... \u001b[?25l\u001b[?25hdone\n",
            "Requirement already satisfied: beautifulsoup4 in /usr/local/lib/python3.11/dist-packages (from wikipedia) (4.13.4)\n",
            "Requirement already satisfied: requests<3.0.0,>=2.0.0 in /usr/local/lib/python3.11/dist-packages (from wikipedia) (2.32.3)\n",
            "Requirement already satisfied: charset-normalizer<4,>=2 in /usr/local/lib/python3.11/dist-packages (from requests<3.0.0,>=2.0.0->wikipedia) (3.4.1)\n",
            "Requirement already satisfied: idna<4,>=2.5 in /usr/local/lib/python3.11/dist-packages (from requests<3.0.0,>=2.0.0->wikipedia) (3.10)\n",
            "Requirement already satisfied: urllib3<3,>=1.21.1 in /usr/local/lib/python3.11/dist-packages (from requests<3.0.0,>=2.0.0->wikipedia) (2.4.0)\n",
            "Requirement already satisfied: certifi>=2017.4.17 in /usr/local/lib/python3.11/dist-packages (from requests<3.0.0,>=2.0.0->wikipedia) (2025.1.31)\n",
            "Requirement already satisfied: soupsieve>1.2 in /usr/local/lib/python3.11/dist-packages (from beautifulsoup4->wikipedia) (2.7)\n",
            "Requirement already satisfied: typing-extensions>=4.0.0 in /usr/local/lib/python3.11/dist-packages (from beautifulsoup4->wikipedia) (4.13.2)\n",
            "Building wheels for collected packages: wikipedia\n",
            "  Building wheel for wikipedia (setup.py) ... \u001b[?25l\u001b[?25hdone\n",
            "  Created wheel for wikipedia: filename=wikipedia-1.4.0-py3-none-any.whl size=11678 sha256=d174b9bdd155bcd7efc8d00d545d8cabd5c2b1cffcfda0084ee9916d85ef557a\n",
            "  Stored in directory: /root/.cache/pip/wheels/8f/ab/cb/45ccc40522d3a1c41e1d2ad53b8f33a62f394011ec38cd71c6\n",
            "Successfully built wikipedia\n",
            "Installing collected packages: wikipedia\n",
            "Successfully installed wikipedia-1.4.0\n"
          ]
        }
      ]
    },
    {
      "cell_type": "code",
      "source": [
        "import time\n",
        "import random\n",
        "from langchain_community.document_loaders import WikipediaLoader\n",
        "from langchain_core.documents import Document\n",
        "\n",
        "def load_wikipedia_pages(topics, lang='fa'):\n",
        "    wiki_docs = []\n",
        "\n",
        "    for topic in topics:\n",
        "        print(f\"Loading page: {topic} ...\")\n",
        "\n",
        "        loader = WikipediaLoader(query=topic, load_max_docs=1, lang=lang)\n",
        "        data = loader.load()\n",
        "\n",
        "        document = data[0]\n",
        "\n",
        "        wiki_docs.append(document)\n",
        "\n",
        "        sleep_time = random.uniform(2, 5)\n",
        "        print(f\"Sleeping for {sleep_time:.2f} seconds...\")\n",
        "        time.sleep(sleep_time)\n",
        "\n",
        "    return wiki_docs\n",
        "\n",
        "wiki_topics = [\n",
        "    \"ریچارد استالمن\",\n",
        "    \"لینوس توروالدز\",\n",
        "    \"لینوکس\",\n",
        "    \"پروژه گنو\",\n",
        "    \"نرم‌افزار آزاد\",\n",
        "    \"بنیاد نرم‌افزار آزاد\"\n",
        "]\n",
        "\n",
        "wiki_docs = load_wikipedia_pages(wiki_topics)\n",
        "\n",
        "print(\"Number of wikipedia pages (loaded Document objects):\", len(wiki_docs))"
      ],
      "metadata": {
        "colab": {
          "base_uri": "https://localhost:8080/"
        },
        "id": "9sOog2hLDolB",
        "outputId": "2254299b-a4c7-4313-fa40-e20a0c86e280"
      },
      "execution_count": 70,
      "outputs": [
        {
          "output_type": "stream",
          "name": "stdout",
          "text": [
            "Loading page: ریچارد استالمن ...\n",
            "Sleeping for 4.57 seconds...\n",
            "Loading page: لینوس توروالدز ...\n",
            "Sleeping for 2.57 seconds...\n",
            "Loading page: لینوکس ...\n",
            "Sleeping for 4.41 seconds...\n",
            "Loading page: پروژه گنو ...\n",
            "Sleeping for 3.43 seconds...\n",
            "Loading page: نرم‌افزار آزاد ...\n",
            "Sleeping for 3.84 seconds...\n",
            "Loading page: بنیاد نرم‌افزار آزاد ...\n",
            "Sleeping for 2.56 seconds...\n",
            "Number of wikipedia pages (loaded Document objects): 6\n"
          ]
        }
      ]
    },
    {
      "cell_type": "code",
      "source": [
        "printer(wiki_docs)"
      ],
      "metadata": {
        "colab": {
          "base_uri": "https://localhost:8080/"
        },
        "id": "BxNDDeg-E54s",
        "outputId": "7f095ae5-82b1-4820-e177-21421db45b38"
      },
      "execution_count": 73,
      "outputs": [
        {
          "output_type": "stream",
          "name": "stdout",
          "text": [
            "The number of documents: 6 \n",
            "\n",
            "Metadata:\n",
            " {'title': 'ریچارد استالمن', 'summary': 'ریچارد متیو استالمن (به انگلیسی: Richard Matthew Stallman) (متولد ۱۶ مارس ۱۹۵۳ در نیویورک) معروف به آر-ام-اس (به انگلیسی: RMS)، یک آمریکایی طرفدار آزادی نرم\\u200cافزار و برنامه\\u200cنویس کامپیوتر است. در سپتامبر سال ۱۹۸۳، او پروژه گنو را برای ساخت یک سیستم\\u200cعامل کاملاً آزاد شبه-یونیکس آغاز کرد و مدیریت و معماری این پروژه را عهده\\u200cدار شد. با آغاز پروژه گنو، او نخستین قدم را در جنبش نرم\\u200cافزار آزاد برداشت و در اکتبر سال ۱۹۸۵ بنیاد نرم\\u200cافزار آزاد را تأسیس کرد.\\nاستالمن در استفاده از مفهوم کپی\\u200cلفت (در برابر مفهوم کپی رایت) پیش\\u200cقدم شد. او نویسندهٔ اصلی چندین مجوز کپی\\u200cلفت، از جمله جی\\u200cپی\\u200cال است که یکی از پر استفاده\\u200cترین مجوزهای نرم\\u200cافزار آزاد به حساب می\\u200cآیند. از اواسط دههٔ ۱۹۹۰، او اکثر وقت خود را برای دفاع از جنبش نرم\\u200cافزار آزاد گذاشته\\u200cاست. همچنین او همیشه در حال مبارزه با حق امتیاز نرم\\u200cافزار و چیزهایی که او در قانون کپی\\u200cرایت اضافی می\\u200cبیند، است. او تعدادی از نرم\\u200cافزارهایی را که به\\u200cطور گسترده استفاده می\\u200cشوند، گسترش داده\\u200cاست؛ نظیر ایمکس اصلی، مجموعه کامپایلرهای گنو و اشکال\\u200cیاب گنو. وی همچنین در سال ۱۹۸۹ برای متحد کردن توسعه\\u200cدهندگان نرم\\u200cافزار آزاد و همین\\u200cطور نرم\\u200cافزار مالکیتی برای مبارزه علیه پتنت\\u200cهای نرم\\u200cافزاری و گسترش محدودهٔ کپی\\u200cرایت، سازمان اتحاد برای آزادی برنامه\\u200cنویسی را تأسیس کرد.\\nایده اولیه یک دانشنامهٔ آنلاین که با مشارکت کاربران نوشته شود (همانند ویکی\\u200cپدیا) در سال ۱۹۹۹ توسط استالمن ارائه شد.', 'source': 'https://fa.wikipedia.org/wiki/%D8%B1%DB%8C%DA%86%D8%A7%D8%B1%D8%AF_%D8%A7%D8%B3%D8%AA%D8%A7%D9%84%D9%85%D9%86'} \n",
            "\n",
            "Page content (first 250 characters):\n",
            " ریچارد متیو استالمن (به انگلیسی: Richard Matthew Stallman) (متولد ۱۶ مارس ۱۹۵۳ در نیویورک) معروف به آر-ام-اس (به انگلیسی: RMS)، یک آمریکایی طرفدار آزادی نرم‌افزار و برنامه‌نویس کامپیوتر است. در سپتامبر سال ۱۹۸۳، او پروژه گنو را برای ساخت یک سیستم‌عام \n",
            "\n"
          ]
        }
      ]
    },
    {
      "cell_type": "code",
      "source": [
        "import re\n",
        "\n",
        "def clean_wiki_text(text):\n",
        "    # حذف ارجاعات مثل [1], [۲], [10]\n",
        "    text = re.sub(r'\\[\\d+\\]', '', text)\n",
        "    # حذف فاصله‌های چندتایی\n",
        "    text = ' '.join(text.split())\n",
        "    return text\n",
        "\n",
        "# پیش‌پردازش اسناد ویکی‌پدیا\n",
        "cleaned_wiki_docs = []\n",
        "\n",
        "for doc in wiki_docs:\n",
        "    cleaned_content = clean_wiki_text(doc.page_content)\n",
        "    # ساخت یک Document جدید با متن پاک شده\n",
        "    cleaned_doc = type(doc)(page_content=cleaned_content, metadata=doc.metadata)\n",
        "    cleaned_wiki_docs.append(cleaned_doc)\n",
        "\n",
        "# چاپ نتیجه\n",
        "print(\"تعداد اسناد ویکی‌پدیا پس از پاکسازی:\", len(cleaned_wiki_docs))\n",
        "print(\"چند خط اول یکی از اسناد پاکسازی شده:\\n\")\n",
        "print(cleaned_wiki_docs[0].page_content[:500])"
      ],
      "metadata": {
        "colab": {
          "base_uri": "https://localhost:8080/"
        },
        "id": "03l4twPXFTSq",
        "outputId": "19133d51-4ab8-4013-d038-abb96443ab4c"
      },
      "execution_count": 78,
      "outputs": [
        {
          "output_type": "stream",
          "name": "stdout",
          "text": [
            "تعداد اسناد ویکی‌پدیا پس از پاکسازی: 6\n",
            "چند خط اول یکی از اسناد پاکسازی شده:\n",
            "\n",
            "ریچارد متیو استالمن (به انگلیسی: Richard Matthew Stallman) (متولد ۱۶ مارس ۱۹۵۳ در نیویورک) معروف به آر-ام-اس (به انگلیسی: RMS)، یک آمریکایی طرفدار آزادی نرم‌افزار و برنامه‌نویس کامپیوتر است. در سپتامبر سال ۱۹۸۳، او پروژه گنو را برای ساخت یک سیستم‌عامل کاملاً آزاد شبه-یونیکس آغاز کرد و مدیریت و معماری این پروژه را عهده‌دار شد. با آغاز پروژه گنو، او نخستین قدم را در جنبش نرم‌افزار آزاد برداشت و در اکتبر سال ۱۹۸۵ بنیاد نرم‌افزار آزاد را تأسیس کرد. استالمن در استفاده از مفهوم کپی‌لفت (در برابر مفهوم\n"
          ]
        }
      ]
    },
    {
      "cell_type": "markdown",
      "metadata": {
        "id": "ArDa4rqMyQ1j"
      },
      "source": [
        "<h3 dir=rtl align=right style=\"line-height:200%;font-family:vazir;color:#0099cc\">\n",
        "<font face=\"vazir\" color=\"#0099cc\">\n",
        "فایل <code>HTML</code>\n",
        "</font>\n",
        "</h3>\n",
        "\n",
        "<p dir=rtl style=\"direction: rtl; text-align: justify; line-height:200%; font-family:vazir; font-size:medium\">\n",
        "<font face=\"vazir\">\n",
        "حال بیایید از وب‌سایت خود آقای استالمن هم کمک بگیریم و محتوای آن را در اختیار پروژه‌ی خود قرار دهیم. برای این کار لینک‌های داخلی وب‌سایت <a href=\"https://stallman.org\" target=\"_blank\"><code>https://stallman.org</code></a> را به‌کمک <i>Web Scraping</i> استخراج کرده‌ایم و فایل‌های <code>HTML</code> این صفحات را در پوشه‌ای به همین نام در مسیر داده‌های پروژه (<code>data</code>) ذخیره کرده‌ایم. کد مربوط به بخش استخراج این صفحات صرفاً جهت مطالعه‌ی بیشتر در اختیار شما قرار گرفته و در این مرحله تنها نیاز است که شما فایل‌های <code>HTML</code> را از پوشه‌ی مذکور بخوانید. برای این کار روش‌های متفاوتی وجود دارد اما یک راه استفاده از <code>DirectoryLoader</code> (<a href=\"https://python.langchain.com/v0.2/docs/how_to/document_loader_directory/\" target=\"_blank\">مطالعه‌ی مستندات</a>) و <code>BSHTMLLoader</code> (<a href=\"https://python.langchain.com/v0.2/docs/integrations/document_loaders/bshtml/#loader-features\"  target=\"_blank\">مطالعه‌ی مستندات</a>) به‌عنوان کلاس بارگیری‌کننده‌ی آن (آرگومان <code>loader_cls</code>) است.\n",
        "</font>\n",
        "</p>\n",
        "\n",
        "<details>\n",
        "<summary dir=rtl style=\"direction: rtl; text-align: justify; line-height:200%; font-family:vazir; font-size:medium\">مشاهده‌ی کد استخراج داده‌ها</summary>\n",
        "<br>\n",
        "\n",
        "```python\n",
        "\n",
        "# The following code is used to download the HTML content of the Stallman website\n",
        "\n",
        "import requests\n",
        "from bs4 import BeautifulSoup\n",
        "from urllib.parse import urljoin, urlparse\n",
        "import os\n",
        "\n",
        "def save_html(url, directory):\n",
        "    response = requests.get(url)\n",
        "    # Create a valid filename from the URL\n",
        "    filename = urlparse(url).path.strip('/').replace('/', '_') or 'index'\n",
        "    filepath = os.path.join(directory, f\"{filename}\")\n",
        "    \n",
        "    # Save the HTML content to a file\n",
        "    with open(filepath, 'w', encoding='utf-8') as file:\n",
        "        file.write(response.text)\n",
        "    print(f\"Saved: {filepath}\")\n",
        "\n",
        "def is_internal_link(href):\n",
        "    # Parse the href to get its components\n",
        "    parsed_href = urlparse(href)\n",
        "    \n",
        "    # Check if the link is internal\n",
        "    return (\n",
        "        (not href.startswith('#')) and # Check it is not an identifier\n",
        "        (not href.startswith('tel:')) and # Check it is not a telephone number\n",
        "        (href.endswith('.html')) and # Check it is not xml\n",
        "        (parsed_href.netloc == \"\" or  # Empty netloc indicates a relative link\n",
        "        \"stallman.org\" in parsed_href.netloc)  # Netloc contains stallman.org\n",
        "    )\n",
        "\n",
        "def extract_links(url):\n",
        "    response = requests.get(url)\n",
        "    soup = BeautifulSoup(response.text, 'html.parser')\n",
        "    links = set()\n",
        "    for a_tag in soup.find_all('a', href=True):\n",
        "        href = a_tag['href']\n",
        "        if is_internal_link(href):\n",
        "            full_url = urljoin(url, href)  # Create a full URL\n",
        "            links.add(full_url)\n",
        "    return links\n",
        "\n",
        "url = \"https://stallman.org\"\n",
        "links = extract_links(url)\n",
        "directory = \"html\"\n",
        "os.makedirs(directory, exist_ok=True)\n",
        "\n",
        "# Save each link's HTML content\n",
        "for link in links:\n",
        "    save_html(link, directory)\n",
        "\n",
        "```\n",
        "\n",
        "</details>"
      ]
    },
    {
      "cell_type": "code",
      "execution_count": null,
      "metadata": {
        "id": "_Odv5XLDyQ1k"
      },
      "outputs": [],
      "source": [
        "from langchain_community.document_loaders import DirectoryLoader\n",
        "from langchain_community.document_loaders import BSHTMLLoader\n",
        "\n",
        "html_docs = None # TODO: Load the HTML files in the html directory"
      ]
    },
    {
      "cell_type": "code",
      "execution_count": null,
      "metadata": {
        "id": "Ji0DKPobyQ1k"
      },
      "outputs": [],
      "source": [
        "print(\"Number of pages (loaded Document objects):\", len(html_docs))"
      ]
    },
    {
      "cell_type": "markdown",
      "metadata": {
        "id": "P4xaL0EByQ1k"
      },
      "source": [
        "<h2 dir=rtl align=right style=\"line-height:200%;font-family:vazir;color:#0099cc\">\n",
        "<font face=\"vazir\" color=\"#0099cc\">\n",
        "جداسازی اسناد\n",
        "</font>\n",
        "</h2>\n",
        "\n",
        "<p dir=rtl style=\"direction: rtl; text-align: justify; line-height:200%; font-family:vazir; font-size:medium\">\n",
        "<font face=\"vazir\">\n",
        "احتمالاً طبق بررسی اسناد متوجه شده‌اید که برخی از آن‌ها ممکن است طولانی باشند و بهتر است که آن‌ها را به قطعات کوچک‌تری بشکنیم. پس در این مرحله با استفاده از روش‌های جداسازی اسناد به شکستن آن‌ها بپردازید. اگر می‌خواهید این کار را بر روی تمام اسناد خود انجام دهید می‌توانید ابتدا تمام آن‌ها در یک لیست واحد ریخته و سپس تابع مورد نظر را اعمال کنید.\n",
        "</font>\n",
        "</p>"
      ]
    },
    {
      "cell_type": "code",
      "execution_count": null,
      "metadata": {
        "id": "L7r1VpPGyQ1k"
      },
      "outputs": [],
      "source": [
        "splitted_docs = None # TODO: Split the documents into smaller chunks\n",
        "\n",
        "print('The number of splitted documents:', len(splitted_docs))"
      ]
    },
    {
      "cell_type": "markdown",
      "metadata": {
        "id": "m3dUBUmxyQ1k"
      },
      "source": [
        "<h2 dir=rtl align=right style=\"line-height:200%;font-family:vazir;color:#0099cc\">\n",
        "<font face=\"vazir\" color=\"#0099cc\">\n",
        "تعبیه‌سازی و مخزن برداری\n",
        "</font>\n",
        "</h2>\n",
        "\n",
        "<p dir=rtl style=\"direction: rtl; text-align: justify; line-height:200%; font-family:vazir; font-size:medium\">\n",
        "<font face=\"vazir\">\n",
        "برای آن‌که بتوانیم اسناد مرتبط با پرسش کاربر را پیدا کردیم یا به‌اصطلاح جست‌وجوی معنایی انجام دهیم نیاز است که آن‌ها را به‌شکل بردارهای عددی تعبیه کرده و در یک مخزن برداری ذخیره کنیم. در این مرحله می‌توانید از هر مدل تعبیه‌سازی که می‌خواهید استفاده کنید. با این حال به چندزبانه بودن اسناد توجه داشته باشید و ترجیحاً از یک مدل چندزبانه استفاده کنید یا این‌که تکنیکی برای رفع این چالش بیابید.\n",
        "</font>\n",
        "</p>\n",
        "\n",
        "<p dir=rtl style=\"direction: rtl; text-align: justify; line-height:200%; font-family:vazir; font-size:medium\">\n",
        "<font face=\"vazir\">\n",
        "<span style=\"color:orange\"><b>نکته‌ی ۱:</b></span>\n",
        "اگر قصد دارید از مدل‌های تعبیه‌ساز <i>Cohere</i> استفاده کنید به محدودیت تعداد درخواست ماهانه توجه داشته باشید. ممکن است که اگر چند مرحله این بخش را تکرار کنید حد مجاز تعداد درخواست را رد کنید. یک راه‌حل این است که در صورت وقوع محدودیت از یک حساب جدید استفاده کنید یا این‌که در زمان پیاده‌سازی اولیه و آزمایش کدهای خود از یک مدل دیگر همچون مدل‌های موجود در هاگینگ‌فیس بهره ببرید و وقتی‌که مطمئن شدید همه‌چیز به‌درستی کار می‌کند به‌سراغ آزمایش این مدل بروید.\n",
        "</font>\n",
        "</p>\n",
        "\n",
        "<p dir=rtl style=\"direction: rtl; text-align: justify; line-height:200%; font-family:vazir; font-size:medium\">\n",
        "<font face=\"vazir\">\n",
        "<span style=\"color:orange\"><b>نکته‌ی ۲:</b></span>\n",
        "اگر تصمیم گرفتید که از مدل‌های هاگینگ‌فیس بهره ببرید اکیداً پیشنهاد می‌کنیم که کدهای خود را بر بستر گوگل کولب اجرا کنید تا با مشکلات نصب کتابخانه‌ها و همچنین محدودیت‌های سخت‌افزاری مواجه نشوید. در این‌صورت فراموش نکنید که قابلیت <code>GPU</code> کولب را فعال کرده باشید.\n",
        "</font>\n",
        "</p>\n",
        "\n",
        "<p dir=rtl style=\"direction: rtl; text-align: justify; line-height:200%; font-family:vazir; font-size:medium\">\n",
        "<font face=\"vazir\">\n",
        "<span style=\"color:red\"><b>توجه:</b></span>\n",
        "در هنگام ساخت مخزن برداری فراموش نکنید که آرگومان <code>persist_directory</code> را مقداردهی کرده باشید تا مطمئن شوید که اسناد و تعبیه‌ها ذخیره می‌شوند. در این‌صورت دیگر در استفاده‌های بعدی از کدهای‌تان نیاز به تعبیه‌سازی مجدد اسناد نخواهید داشت.\n",
        "</font>\n",
        "</p>"
      ]
    },
    {
      "cell_type": "code",
      "execution_count": null,
      "metadata": {
        "id": "WUEtm0ouyQ1l"
      },
      "outputs": [],
      "source": [
        "# TODO: Define an embedding model and set API key if necessary"
      ]
    },
    {
      "cell_type": "code",
      "execution_count": null,
      "metadata": {
        "id": "MOf5vmqQyQ1l"
      },
      "outputs": [],
      "source": [
        "# TODO: Make a vectorstore and add the documents to it"
      ]
    },
    {
      "cell_type": "markdown",
      "metadata": {
        "id": "1JGZHXT9yQ1l"
      },
      "source": [
        "<h2 dir=rtl align=right style=\"line-height:200%;font-family:vazir;color:#0099cc\">\n",
        "<font face=\"vazir\" color=\"#0099cc\">\n",
        "مدل پرسش‌وپاسخ\n",
        "</font>\n",
        "</h2>\n",
        "\n",
        "<p dir=rtl style=\"direction: rtl; text-align: justify; line-height:200%; font-family:vazir; font-size:medium\">\n",
        "<font face=\"vazir\">\n",
        "اکنون می‌توانید به هر روشی که علاقه دارید یک زنجیره‌ی <code>LangChain</code> طراحی کنید که بتواند به پرسش کاربر در قالب خواسته‌شده پاسخ دهد. قاعدتاً این زنجیره باید شامل بازیابی اسناد به‌کمک مخزن برداری نیز باشد. همچنین می‌توانید یک دستور سفارشی‌شده و مناسب با خواسته‌های مسئله بنویسید و سعی کنید با بهبود آن کیفیت پاسخ‌های مدل را نیز افزایش دهید. با این حال، مهم‌ترین نکته در این بخش فرمت خروجی مدل است که در ادامه به شرح آن می‌پردازیم. برای رعایت این فرمت احتمالاً نیاز به استفاده از تجزیه‌کننده (Parser) در زنجیره‌ی خود خواهید داشت.\n",
        "</font>\n",
        "</p>\n",
        "\n",
        "<h3 dir=rtl align=right style=\"line-height:200%;font-family:vazir;color:#0099cc\">\n",
        "<font face=\"vazir\" color=\"#0099cc\">\n",
        "سوالات و فرمت خروجی\n",
        "</font>\n",
        "</h3>\n",
        "\n",
        "<p dir=rtl style=\"direction: rtl; text-align: justify; line-height:200%; font-family:vazir; font-size:medium\">\n",
        "<font face=\"vazir\">\n",
        "با این‌که مدل شما قادر است به‌صورت کامل‌تر و نزدیک‌تر به زبان انسان به پرسش‌های کاربر پاسخ دهد اما از آن‌جا که  بتوانیم عملکرد مدل شما را به‌صورت خودکار توسط سیستم داوری ارزیابی کنیم یک سری سوال مشخص در اختیارتان قرار داده‌ایم که پاسخ‌هایی تک یا چند کلمه‌ای دارند. سیستم داوری وجود عبارت پاسخ درست (یا معادل‌های آن) را در خروجی‌های شما جست‌وجو می‌کند و اگر آن را پیدا کند به‌عنوان پاسخی درست در نظر می‌گیرد. با این حال توجه داشته باشید اگر خروجی مدل شما <u>بیش از ۴ کلمه</u> باشد به‌عنوان یک متن طولانی در نظر گرفته می‌شود و <span style=\"color:red\">نادرست</span> تشخیص داده می‌شود زیرا تمام پاسخ‌ها کوتاه و مشخص هستند.\n",
        "</font>\n",
        "</p>\n",
        "\n",
        "<p dir=rtl style=\"direction: rtl; text-align: justify; line-height:200%; font-family:vazir; font-size:medium\">\n",
        "<font face=\"vazir\">\n",
        "خروجی نهایی شما به‌ازای هر سوال باید یک دیکشنری شامل دو کلید <code>question_number</code> و <code>answer</code> باشد که به‌ترتیب از جنس <code>int</code> و <code>str</code> هستند. در این دیکشنری شماره‌ی سوال به‌عنوان مقدار کلید <code>question_number</code> و پاسخ به‌عنوان مقدار کلید <code>answer</code> قرار می‌گیرد. به‌عنوان مثال اگر پاسخ پرسش شماره‌ی ۱۲، کوئرا باشد دیکشنری مربوط به آن به‌صورت زیر خواهد بود:\n",
        "\n",
        "```python\n",
        "{\n",
        "    \"question_number\": 12,\n",
        "    \"answer\": \"کوئرا\"\n",
        "}\n",
        "```\n",
        "</font>\n",
        "</p>\n",
        "\n",
        "<p dir=rtl style=\"direction: rtl; text-align: justify; line-height:200%; font-family:vazir; font-size:medium\">\n",
        "<font face=\"vazir\">\n",
        "در انتهای نت‌بوک تمام این دیکشنری‌ها (از متغیر <code>answer1</code> تا <code>answer16</code>) را داخل یک لیست واحد ریخته و به‌صورت یک فایل <code>JSON</code> ذخیره خواهیم کرد تا بتوانید آن را در سامانه‌ی داوری آپلود کرده و نتایج کار خود را مشاهده کنید.\n",
        "</font>\n",
        "</p>\n"
      ]
    },
    {
      "cell_type": "code",
      "execution_count": null,
      "metadata": {
        "id": "jQIq0XY9yQ1l"
      },
      "outputs": [],
      "source": [
        "rag_chain = None # TODO: Define a RAG chain"
      ]
    },
    {
      "cell_type": "code",
      "execution_count": null,
      "metadata": {
        "id": "nr86cvQAyQ1l"
      },
      "outputs": [],
      "source": [
        "query = \"پرسش ۱: توروالدز برای کار در چه موسسه‌ای دانشگاه هلسینکی را ترک گفت؟\"\n",
        "answer1 = None"
      ]
    },
    {
      "cell_type": "code",
      "execution_count": null,
      "metadata": {
        "id": "_CrLr0XhyQ1n"
      },
      "outputs": [],
      "source": [
        "query = \"پرسش ۲: آندرو تاننباوم استاد کدام دانشگاه است؟\"\n",
        "answer2 = None"
      ]
    },
    {
      "cell_type": "code",
      "execution_count": null,
      "metadata": {
        "id": "-IAfD4gSyQ1o"
      },
      "outputs": [],
      "source": [
        "query = \"پرسش ۳: در سال ۲۰۰۶ چند درصد از هسته لینوکس توسط توروالدز نوشته شد (به عدد)؟\"\n",
        "answer3 = None"
      ]
    },
    {
      "cell_type": "code",
      "execution_count": null,
      "metadata": {
        "id": "qxtbCzqfyQ1o"
      },
      "outputs": [],
      "source": [
        "query = \"پرسش ۴: چه کسی بنیاد نرم‌افزارهای آزاد را بنا نهاد؟\"\n",
        "answer4 = None"
      ]
    },
    {
      "cell_type": "code",
      "execution_count": null,
      "metadata": {
        "id": "MHVOCw1OyQ1o"
      },
      "outputs": [],
      "source": [
        "query = \"پرسش ۵: ریچارد استالمن در ۲۱ سالگی در کدام شرکت کار می‌کرد؟\"\n",
        "answer5 = None"
      ]
    },
    {
      "cell_type": "code",
      "execution_count": null,
      "metadata": {
        "id": "mOjg5UGayQ1p"
      },
      "outputs": [],
      "source": [
        "query = \"پرسش ۶: یکی از مشهورترین پروژه‌هایی که در ابتدا پروژه‌ی آزاد و آکادمیک بود اما بعد وارد محیط بسته‌ی تجاری شد چه بود؟\"\n",
        "answer6 = None"
      ]
    },
    {
      "cell_type": "code",
      "execution_count": null,
      "metadata": {
        "id": "QDayMclcyQ1p"
      },
      "outputs": [],
      "source": [
        "query = \"پرسش ۷: لینکدین در سانسور کردن حساب‌ها به درخواست چه کشوری مشهور است؟\"\n",
        "answer7 = None"
      ]
    },
    {
      "cell_type": "code",
      "execution_count": null,
      "metadata": {
        "id": "AdYO_h_eyQ1p"
      },
      "outputs": [],
      "source": [
        "query = \"پرسش ۸: ریچارد استالمن پیشنهاد می‌کند به‌جای گوگل مپ از چه سرویسی استفاده کنیم؟\"\n",
        "answer8 = None"
      ]
    },
    {
      "cell_type": "code",
      "execution_count": null,
      "metadata": {
        "id": "ZCQHjF_DyQ1p"
      },
      "outputs": [],
      "source": [
        "query = \"پرسش ۹: آزادی صفرم در نرم‌افزار آزاد چه عنوانی دارد؟\"\n",
        "answer9 = None"
      ]
    },
    {
      "cell_type": "code",
      "execution_count": null,
      "metadata": {
        "id": "0mT1ZgqbyQ1q"
      },
      "outputs": [],
      "source": [
        "query = \"پرسش ۱۰: آیا یک نرم‌افزار آزاد لزوماً رایگان است (بله یا خیر)؟\"\n",
        "answer10 = None"
      ]
    },
    {
      "cell_type": "code",
      "execution_count": null,
      "metadata": {
        "id": "ZuZrMYvyyQ1q"
      },
      "outputs": [],
      "source": [
        "query = \"پرسش ۱۱: استاندارد ناظر بر فایل‌ها و دایرکتوری‌ها به‌اختصار چه نامیده می‌شود؟\"\n",
        "answer11 = None"
      ]
    },
    {
      "cell_type": "code",
      "execution_count": null,
      "metadata": {
        "id": "y-g07ATuyQ1q"
      },
      "outputs": [],
      "source": [
        "query = \"پرسش ۱۲: اولین ریپلای به ایمیل درخواست کار چیست؟\"\n",
        "answer12 = None"
      ]
    },
    {
      "cell_type": "code",
      "execution_count": null,
      "metadata": {
        "id": "DTHcD_XUyQ1r"
      },
      "outputs": [],
      "source": [
        "query = \"پرسش ۱۳: اگر امروز که از شنبه ورزش می‌کنم در واقع دچار چه بایاسی شده‌ایم؟\"\n",
        "answer13 = None"
      ]
    },
    {
      "cell_type": "code",
      "execution_count": null,
      "metadata": {
        "id": "4MeQsGOiyQ1r"
      },
      "outputs": [],
      "source": [
        "query = \"پرسش ۱۴: دنبال یاد گرفتن کدوم یکی باشیم: برنامه‌نویسی یا دستور زبان یک زبان خاص؟\"\n",
        "answer14 = None"
      ]
    },
    {
      "cell_type": "code",
      "execution_count": null,
      "metadata": {
        "id": "C0ETjsFIyQ1r"
      },
      "outputs": [],
      "source": [
        "query = \"پرسش ۱۵: اگه هدف‌مون اینه که بریم گوگل کار کنیم اول از همه چه‌چیزی رو سرچ کنیم؟\"\n",
        "answer15 = None"
      ]
    },
    {
      "cell_type": "code",
      "execution_count": null,
      "metadata": {
        "id": "I7_1sm-CyQ1r"
      },
      "outputs": [],
      "source": [
        "query = \"پرسش ۱۶: در بیانیه‌ی هکرها گفته شده که جرم آن‌ها در یک کلمه چیست؟\"\n",
        "answer16 = None"
      ]
    },
    {
      "cell_type": "markdown",
      "metadata": {
        "id": "Oc-ri7gCyQ10"
      },
      "source": [
        "<h2 dir=rtl align=right style=\"line-height:200%;font-family:vazir;color:#0099cc\">\n",
        "<font face=\"vazir\" color=\"#0099cc\">\n",
        "نحوه‌ی امتیازدهی\n",
        "</font>\n",
        "</h2>\n",
        "\n",
        "<p dir=rtl style=\"direction: rtl; text-align: justify; line-height:200%; font-family:vazir; font-size:medium\">\n",
        "<font face=\"vazir\">\n",
        "برای آن‌که بتوانید با <span style=\"color:green\">موفقیت</span> امتیاز این پروژه را کسب کنید نیاز است که مدل شما از بین این ۱۶ پرسش حداقل به <u>۱۲ مورد</u> پاسخ درست داده باشد.\n",
        "</font>\n",
        "</p>"
      ]
    },
    {
      "cell_type": "markdown",
      "metadata": {
        "id": "hKQx1rdqyQ11"
      },
      "source": [
        "<h2 dir=rtl align=right style=\"line-height:200%;font-family:vazir;color:#0099cc\">\n",
        "<font face=\"vazir\" color=\"#0099cc\">\n",
        "<b>سلول جواب‌ساز</b>\n",
        "</font>\n",
        "</h2>\n",
        "\n",
        "<p dir=rtl style=\"direction: rtl; text-align: justify; line-height:200%; font-family:vazir; font-size:medium\">\n",
        "<font face=\"vazir\">\n",
        "در سلول‌های بعدی فایل‌های پاسخ شما را تولید می‌کنیم تا بتوانید در نهایت یک فایل فشرده با نام <code>result.zip</code> تحویل بگیرید که حاوی فایل‌های مورد نیاز جهت داوری خواهد بود. ابتدا نیاز است که پاسخ‌های شما یعنی متغیرهای <code>answer1</code> تا <code>answer16</code> را داخل یک لیست واحد ذخیره کنیم. سپس این لیست را به‌صورت یک فایل <code>JSON</code> ذخیره می‌کنیم. لطفاً کد زیر را <span style=\"color:red\">بدون تغییر</span> اجرا کنید.\n",
        "</font>\n",
        "</p>\n",
        "\n",
        "<p dir=rtl style=\"direction: rtl; text-align: justify; line-height:200%; font-family:vazir; font-size:medium\">\n",
        "<font face=\"vazir\" size=3>\n",
        "    برای ساخته‌شدن فایل <code>result.zip</code> سلول زیر را اجرا کنید. توجه داشته باشید که پیش از اجرای سلول زیر تغییرات اعمال شده در نت‌بوک را ذخیره کرده باشید (<code>ctrl+s</code>) تا در صورت نیاز به پشتیبانی امکان بررسی کد شما وجود داشته باشد. همچنین اگر از گوگل کولب استفاده می‌کنید، در صورت نیاز به پشتیبانی حتماً آخرین نسخه از نت‌بوک را به‌صورت دستی دانلود کرده و داخل فایل ارسالی قرار دهید یا لینک کولب را با ما به‌اشتراک بگذارید.\n",
        "</font>\n",
        "</p>"
      ]
    },
    {
      "cell_type": "code",
      "execution_count": null,
      "metadata": {
        "id": "BtlpMfpMyQ11"
      },
      "outputs": [],
      "source": [
        "import zipfile\n",
        "import os\n",
        "import json\n",
        "\n",
        "# Make a list of the answers\n",
        "answers = [globals()[f'answer{i}'] for i in range(1, 17)]\n",
        "\n",
        "# Save the answers to a JSON file\n",
        "with open('answers.json', 'w') as f:\n",
        "    json.dump(answers, f, ensure_ascii=False, indent=4)\n",
        "\n",
        "notebook_path = 'librechat.ipynb'\n",
        "\n",
        "# Check if the notebook exists in the current directory and export it if it doesn't (for Colab)\n",
        "if not os.path.exists(os.path.join(os.getcwd(), notebook_path)):\n",
        "    %notebook -e librechat.ipynb\n",
        "\n",
        "# Compress the files into a zip archive\n",
        "def compress(file_names):\n",
        "    print(\"File Paths:\")\n",
        "    print(file_names)\n",
        "    compression = zipfile.ZIP_DEFLATED\n",
        "    with zipfile.ZipFile(\"result.zip\", mode=\"w\") as zf:\n",
        "        for file_name in file_names:\n",
        "            zf.write('./' + file_name, file_name, compress_type=compression)\n",
        "\n",
        "file_names = ['answers.json', notebook_path]\n",
        "compress(file_names)"
      ]
    },
    {
      "cell_type": "markdown",
      "metadata": {
        "id": "dfUXfUK8yQ11"
      },
      "source": [
        "<p dir=rtl style=\"direction: rtl; text-align: justify; line-height:200%; font-family:vazir; font-size:medium\">\n",
        "<font face=\"vazir\">\n",
        "اکنون کافیست فایل <code>result.zip</code> را داخل سامانه داوری ارسال کنید تا امتیاز شما محاسبه شود.\n",
        "</font>\n",
        "</p>"
      ]
    },
    {
      "cell_type": "markdown",
      "metadata": {
        "id": "PJZI4mjRyQ12"
      },
      "source": [
        "<p dir=rtl align=center style=\"line-height:200%;font-family:vazir;color:#0099cc\">\n",
        "<font face=\"vazir\" color=\"#0099cc\">\n",
        "© <a href=\"https://quera.org/\" target=\"_blank\">کوئرا | Quera</a>\n",
        "</font>\n",
        "</p>"
      ]
    }
  ],
  "metadata": {
    "colab": {
      "provenance": []
    },
    "kernelspec": {
      "display_name": "py311",
      "language": "python",
      "name": "python3"
    },
    "language_info": {
      "codemirror_mode": {
        "name": "ipython",
        "version": 3
      },
      "file_extension": ".py",
      "mimetype": "text/x-python",
      "name": "python",
      "nbconvert_exporter": "python",
      "pygments_lexer": "ipython3",
      "version": "3.11.9"
    }
  },
  "nbformat": 4,
  "nbformat_minor": 0
}