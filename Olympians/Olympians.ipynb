{
 "cells": [
  {
   "cell_type": "markdown",
   "metadata": {},
   "source": [
    "<h1 dir=rtl align=center style=\"line-height:200%;font-family:vazir;color:#0099cc\">\n",
    "<font face=\"vazir\" color=\"#0099cc\">\n",
    "الهه‌شناسی\n",
    "</font>\n",
    "</h1>\n",
    "<p dir=rtl style=\"direction: rtl; text-align: justify; line-height:200%; font-family:vazir; font-size:medium\">\n",
    "<font face=\"vazir\" size=3>\n",
    "در این پروژه قرار است یک مدل زبانی عظیم را به‌گونه‌ای تقویت کنیم که بتواند درباره‌ی خدایان یونانی، مانند زئوس و آتنا، اطلاعات جذاب و دقیقی ارائه دهد و به سؤالات ما در این حوزه پاسخ‌های بهتری بدهد. در این تمرین یاد می‌گیریم که چطور با ارائه چند مثال مناسب، مدل را تقویت کنیم تا جواب‌های مرتبط‌تری تولید کند. همچنین می‌آموزیم که چگونه سؤالات خود را به‌شکلی دقیق و منظم مطرح کنیم تا مدل بتواند بهتر و مؤثرتر پاسخ دهد. در نهایت، هدف این است که مدلی هوشمند ایجاد کنیم که بتواند درباره‌ی اساطیر یونان، پاسخ‌های کوتاه و مفیدی ارائه کند.\n",
    "</font>\n",
    "</p>"
   ]
  },
  {
   "cell_type": "markdown",
   "metadata": {},
   "source": [
    "<h2 dir=\"rtl\" align=\"right\" style=\"line-height:200%;font-family:vazir;color:#0099cc\">\n",
    "<font face=\"vazir\" color=\"#0099cc\">\n",
    "تنظیم کلید <code>API</code></font>\n",
    "</h2>\n",
    "<p dir=\"rtl\" style=\"direction: rtl; text-align: justify; line-height:200%; font-family:vazir; font-size:medium\">\n",
    "در ابتدا به تنظیم کلید <code>API</code> می‌پردازیم.\n",
    "با اجرای سلول زیر و وارد کردن کلید <code>API</code> محیط کار شما آماده‌ی استفاده از سرویس‌های <i>Cohere</i> می‌شود.\n",
    "</p>"
   ]
  },
  {
   "cell_type": "code",
   "execution_count": null,
   "metadata": {},
   "outputs": [],
   "source": [
    "import getpass\n",
    "import os\n",
    "os.environ[\"COHERE_API_KEY\"] = getpass.getpass()"
   ]
  },
  {
   "cell_type": "markdown",
   "metadata": {},
   "source": [
    "<h2 dir=rtl align=right style=\"line-height:200%;font-family:vazir;color:#0099cc\">\n",
    "<font face=\"vazir\" color=\"#0099cc\">\n",
    "اطلاعات مربوط به خدایان</font>\n",
    "</h2>\n",
    "\n",
    "<p dir=rtl style=\"direction: rtl; text-align: justify; line-height:200%; font-family:vazir; font-size:medium\">\n",
    "<font face=\"vazir\" size=3>\n",
    "اطلاعات مربوط به خدایان یونان در فایلی به نام <code>gods.json</code> در پوشه‌ی <code>data</code> قرار گرفته است.\n",
    " این فایل شامل جزئیاتی مانند نام، توضیحات، ظاهر و ویژگی‌های خدایان است. برای مثال، اطلاعات زئوس شامل نقش او به عنوان پادشاه خدایان، ظاهر فیزیکی‌اش و ویژگی‌های برجسته مانند رعد و عصای سلطنتی است.\n",
    " <br>\n",
    "در نخستین گام نیاز است که این داده‌ها را از فایل <code>JSON</code> خوانده و به یک رشته‌ی متنی تبدیل کنید. تا در ادامه آن را به‌عنوان پیام سیستم به مدل بدهید. \n",
    "</font>\n",
    "</p>\n",
    "<p dir=rtl style=\"direction: rtl; text-align: justify; line-height:200%; font-family:vazir; font-size:medium\">\n",
    "<font color=\"red\"><b color='red'>توجه:</b></font>\n",
    "<font face=\"vazir\" size=3>\n",
    "ما این اطلاعات را به‌عنوان پیام سیستم به مدل می‌دهیم تا یک زمینه یا دستورالعمل مشخص برای مدل فراهم کنیم. پیام سیستم به مدل کمک می‌کند تا بداند در چه زمینه‌ای باید پاسخ دهد و چه اطلاعاتی برای ارائه‌ی پاسخی دقیق‌تر و مرتبط‌تر استفاده کند. در اینجا، اطلاعات مربوط به خدایان یونانی به مدل داده می‌شود تا پاسخ‌هایش به سؤالات کاربران بر اساس این داده‌ها باشد. این کار باعث می‌شود مدل به جای تولید پاسخ‌های عمومی و نادقیق، اطلاعات دقیقی را که در پیام سیستم آمده است، در پاسخ‌های خود لحاظ کند و به‌شکل مناسب‌تری به سؤالات کاربر درباره‌ی خدایان یونانی جواب دهد.\n",
    "</font>\n",
    "</p>\n",
    "\n",
    "<p dir=rtl style=\"direction: rtl; text-align: justify; line-height:200%; font-family:vazir; font-size:medium\">\n",
    "<font face=\"vazir\" size=3>\n",
    "در سلول زیر ابتدا فایل <code>gods.json</code> را خوانده و آن را در یک متغیر با نام <code>gods</code> نگه‌داری کنید.\n",
    "</font>\n",
    "</p>"
   ]
  },
  {
   "cell_type": "code",
   "execution_count": null,
   "metadata": {},
   "outputs": [],
   "source": [
    "import json\n",
    "\n",
    "# TODO: Read the file \"gods.json\" and load it into the variable \"gods\"\n",
    "with open(None, None) as file:\n",
    "    gods = None"
   ]
  },
  {
   "cell_type": "code",
   "execution_count": null,
   "metadata": {},
   "outputs": [],
   "source": [
    "print('Total number of items:', len(gods))"
   ]
  },
  {
   "cell_type": "code",
   "execution_count": null,
   "metadata": {},
   "outputs": [],
   "source": [
    "# Let's print the first item in the list to see what it looks like\n",
    "gods[0]"
   ]
  },
  {
   "cell_type": "markdown",
   "metadata": {},
   "source": [
    "<h2 dir=rtl align=right style=\"line-height:200%;font-family:vazir;color:#0099cc\">\n",
    "<font face=\"vazir\" color=\"#0099cc\">\n",
    "ساخت پیام سیستم</font>\n",
    "</h2>\n",
    "\n",
    "<p dir=rtl style=\"direction: rtl; text-align: justify; line-height:200%; font-family:vazir; font-size:medium\">\n",
    "<font face=\"vazir\" size=3>\n",
    "اکنون نیاز است دستور اصلی یعنی پیام سیستمی ورودی به مدل را تعریف کنید. در این دستور نیاز است علاوه‌بر نکاتی که خود فکر می‌کنید برای بهبود کیفیت پاسخ‌گویی مدل مناسب هستند، اطلاعاتی مربوط به خدایان یونانی را که در مرحله‌ی پیشین از فایل خواندید نیز به دستور اضافه کنید تا مدل بتواند طبق آن‌ها به کاربر پاسخ دهد. \n",
    "<p dir=rtl style=\"direction: rtl; text-align: justify; line-height:200%; font-family:vazir; font-size:medium\">\n",
    "<font color=\"red\"><b color='red'>توجه:</b></font>\n",
    "<font face=\"vazir\" size=3>\n",
    "در نگارش دستور خود نیاز است حداقل به نکات زیر توجه داشته باشید:\n",
    "<ul dir=rtl style=\"direction: rtl; text-align: justify; line-height:200%; font-family:vazir; font-size:medium\">\n",
    "<li> اطلاعات موجود در متغیر <code>gods</code> را درون دستور قرار دهید</li>\n",
    "<li> مدل باید به سوالات کاربر در کوتاه‌ترین حد ممکن (در حد نهایت ۴ الی ۵ کلمه) پاسخ دهد</li>\n",
    "<li> مدل اگر نتواند در حد ۴ یا ۵ کلمه به سوال پاسخ دهد یا یاسخ سوالی را نمی‌داند با رشته‌ی «نمی‌دانم» پاسخ دهد</li>\n",
    "</ul>\n",
    "</font>\n",
    "</p>\n",
    "<font face=\"vazir\" size=3>\n",
    "<p dir=rtl style=\"direction: rtl; text-align: justify; line-height:200%; font-family:vazir; font-size:medium\">\n",
    "توجه داشته باشید که می‌توانید این دستورات را به زبان انگلیسی هم بدهید، البته مدل باید در نهایت به فارسی پاسخ دهد. همچنین جواب سوالاتی که نمی‌داند باید دقیقاً معادل «نمی‌دانم» باشد.\n",
    "</font>\n",
    "</p>\n",
    "\n"
   ]
  },
  {
   "cell_type": "code",
   "execution_count": null,
   "metadata": {},
   "outputs": [],
   "source": [
    "# TODO: Make a system prompt which contains the information about the gods and instructions for the model\n",
    "system_message = (\n",
    "    \"دستور شما\"\n",
    ")"
   ]
  },
  {
   "cell_type": "markdown",
   "metadata": {
    "vscode": {
     "languageId": "ini"
    }
   },
   "source": [
    "<h2 dir=rtl align=right style=\"line-height:200%;font-family:vazir;color:#0099cc\">\n",
    "<font face=\"vazir\" color=\"#0099cc\">\n",
    "دستورنویسی چند نمونه‌ای\n",
    "</font>\n",
    "</h2>\n",
    "\n",
    "<p dir=rtl style=\"direction: rtl; text-align: justify; line-height:200%; font-family:vazir; font-size:medium\">\n",
    "<font face=\"vazir\" size=3>\n",
    "همان‌طور که در درسنامه‌ها خواندید فراهم‌سازی مثال برای مدل (تکنیک <i>Few-Shot</i>) می‌تواند به بهبود دقت پاسخ‌های تولیدشده توسط آن کمک شایانی کند. در این بخش از شما می‌خواهیم که چندین مثال را به‌صورت مجموعه‌ای از سوالات و پاسخ‌های مربوط به خدایان تعریف کنید تا در ادامه از آن‌ها استفاده شود.\n",
    "<br>\n",
    "ساختار هر مثال شامل دو بخش است:\n",
    "</font>\n",
    "</p>\n",
    "<p dir=rtl style=\"direction: rtl; text-align: justify; line-height:200%; font-family:vazir; font-size:medium\">\n",
    "<font face=\"vazir\" size=3>\n",
    "<ul dir=rtl>\n",
    "<li>\n",
    "سؤال (<code>question</code>): سؤالی که از مدل پرسیده می‌شود\n",
    "</li>\n",
    "<li>\n",
    "پاسخ (<code>answer</code>): پاسخ دقیق به آن سؤال\n",
    "</li>\n",
    "</ul>\n",
    "</font>\n",
    "</p>\n",
    "<p dir=rtl style=\"direction: rtl; text-align: justify; line-height:200%; font-family:vazir; font-size:medium\">\n",
    "<font face=\"vazir\" size=3>\n",
    "در سلول زیر لیست مثال‌ها به همراه چند نمونه آمده است و نیاز است شما مثال‌های بیشتری به آن اضافه کنید.\n",
    "</font>\n",
    "</p>\n",
    "\n",
    "<p dir=rtl style=\"direction: rtl; text-align: justify; line-height:200%; font-family:vazir; font-size:medium\">\n",
    "<font color=\"red\"><b color='red'>توجه:</b></font>\n",
    "<font face=\"vazir\" size=3>\n",
    "لیست مثال‌ها باید حداقل شامل ۱۰ نمونه باشد، تا امتیاز این بخش را کسب کنید. همچنین این مثال‌ها پاسخ «نمی‌دانم» را شامل <b>نشود</b>.\n",
    "</font>\n",
    "</p>"
   ]
  },
  {
   "cell_type": "code",
   "execution_count": null,
   "metadata": {},
   "outputs": [],
   "source": [
    "# TODO: Make a list of at least 10 examples of questions and answers\n",
    "examples = [\n",
    "    {\"question\": \"خدای جنگ کیست؟\", \"answer\": \"آرس\"},\n",
    "    {\"question\": \"آتنا معمولاً چه چیزهایی را در دستانش دارد؟\", \"answer\": \"سپر و شمشیر\"},\n",
    "    {\"question\": \"آرتمیس دوقلوی چه کسی است؟\", \"answer\": \"آپولون\"},\n",
    "    {\"question\": \"زئوس چند کودک دارد که المپیایی هستند؟\", \"answer\": \"15\"},\n",
    "    None,\n",
    "    None\n",
    "]"
   ]
  },
  {
   "cell_type": "markdown",
   "metadata": {},
   "source": [
    "<h2 dir=\"rtl\" align=\"right\" style=\"line-height:200%;font-family:vazir;color:#0099cc\">\n",
    "<font face=\"vazir\" color=\"#0099cc\">\n",
    "ساخت قالب دستور\n",
    "</font>\n",
    "</h2>\n",
    "<p dir=\"rtl\" style=\"direction: rtl; text-align: justify; line-height:200%; font-family:vazir; font-size:medium\">\n",
    "اکنون می‌توانید از پیام سیستمی و همچنین مجموعه مثال‌هایی که پیش‌تر تعریف کردید استفاده کرده و قالب دستور نهایی را تولید کنید. در این مرحله دست‌تان کاملاً باز است که چگونه قالب دستور را تعریف کنید یا چگونه مثال‌ها را برای مدل فراهم کنید. می‌توانید تمام مثال‌ها را به‌صورت یک‌جا در قالب دستور بگنجانید یا این‌که به‌کمک روش‌هایی که آموخته‌اید مرتبط‌ترین آن‌ها را براساس ورودی کاربر انتخاب کنید.\n",
    "نام این قالب دستور را <code>prompt</code> نام‌گذاری کنید.\n",
    "</p>\n"
   ]
  },
  {
   "cell_type": "code",
   "execution_count": null,
   "metadata": {},
   "outputs": [],
   "source": [
    "from langchain_core.prompts import ChatPromptTemplate\n",
    "\n",
    "# TODO: Create a few-shot prompt using the examples you created\n",
    "few_shot_prompt = None\n",
    "\n",
    "# TODO: Create the final prompt by combining the system message, the few-shot prompt, and the human input\n",
    "prompt = ChatPromptTemplate.from_messages(None)"
   ]
  },
  {
   "cell_type": "markdown",
   "metadata": {},
   "source": [
    "<h2 dir=\"rtl\" align=\"right\" style=\"line-height:200%;font-family:vazir;color:#0099cc\">\n",
    "<font face=\"vazir\" color=\"#0099cc\">\n",
    "ساخت مدل</font>\n",
    "</h2>\n",
    "<p dir=\"rtl\" style=\"direction: rtl; text-align: justify; line-height:200%; font-family:vazir; font-size:medium\">\n",
    "پس از ساخت قالب دستور نوبت به ساخت مدل گفت‌وگو رسیده است. توجه داشته باشید باید پارامتر‌های مدل را طوری تنظیم کنید که مدل بیشتر به پاسخ‌های با احتمال بالاتر تمایل داشته باشد و <b style=\"color:red\">هیچ‌گونه</b> تنوع و خلاقیتی در پاسخ‌ها نداشته باشد.\n",
    "</p>"
   ]
  },
  {
   "cell_type": "code",
   "execution_count": null,
   "metadata": {},
   "outputs": [],
   "source": [
    "from langchain_cohere import ChatCohere\n",
    "\n",
    "model = ChatCohere(None)"
   ]
  },
  {
   "cell_type": "markdown",
   "metadata": {},
   "source": [
    "<h2 dir=\"rtl\" align=\"right\" style=\"line-height:200%;font-family:vazir;color:#0099cc\">\n",
    "<font face=\"vazir\" color=\"#0099cc\">\n",
    "ساخت زنجیره\n",
    "</font>\n",
    "</h2>\n",
    "<p dir=\"rtl\" style=\"direction: rtl; text-align: justify; line-height:200%; font-family:vazir; font-size:medium\">\n",
    "در این مرحله، شما باید زنجیره‌ای بسازید که <code>prompt</code> و <code>model</code> را شامل باشد، همچنین می‌توانید در صورت تمایل از یک پردازشگر خروجی جهت دریافت رشته متن خروجی مدل نیز استفاده کنید. \n",
    "</p>"
   ]
  },
  {
   "cell_type": "code",
   "execution_count": null,
   "metadata": {},
   "outputs": [],
   "source": [
    "# TODO: Make a chain with the model and the prompt\n",
    "chain = None"
   ]
  },
  {
   "cell_type": "markdown",
   "metadata": {},
   "source": [
    "<h2 dir=\"rtl\" align=\"right\" style=\"line-height:200%;font-family:vazir;color:#0099cc\">\n",
    "<font face=\"vazir\" color=\"#0099cc\">\n",
    "آزمایش مدل\n",
    "</font>\n",
    "</h2>\n",
    "\n",
    "\n",
    "<p dir=rtl style=\"direction: rtl; text-align: justify; line-height:200%; font-family:vazir; font-size:medium\">\n",
    "<font face=\"vazir\" size=3>\n",
    "در فایل <code>questions.csv</code> در پوشه‌ی <code>data</code> لیستی از سوالات قرار گرفته که عملکرد شما براساس پاسخ مدل به آن‌ها سنجیده خواهد شد.\n",
    "برای آزمایش مدل نیاز است که به‌ترتیب سوالات را به مدل خود داده و پاسخ مناسب را با همان‌ ترتیب ذخیره کنید.\n",
    "</font>\n",
    "</p>\n",
    "\n",
    "<details dir=\"rtl\" style=\"direction: rtl;text-align: justify;line-height:200%;font-family:vazir;font-size:medium\">\n",
    "<summary dir=\"rtl\" style=\"color:orange\"><b>مدل را دور نزنیم!</b></summary>\n",
    "\n",
    "توجه داشته باشید، با توجه به این‌که سوالاتی که قرار است براساس آن‌ها به مدل امتیاز داده شود در اختیار شما قرار دارد، به <b>هیچ عنوان</b> از این سوالات به‌عنوان نمونه‌ برای <i>Few-Shot</i> استفاده نکنید. \n",
    "<br>\n",
    "این موضوع بسیار حائز اهمیت است و استفاده از سوالات آزمون به‌عنوان نمونه ممکن است نتایج غیرقابل قبولی برای مدل شما ایجاد کند و ارزیابی درستی نداشته باشید.\n",
    "\n",
    "\n",
    "</details>\n",
    "</div>\n",
    "\n",
    "\n",
    "<p dir=rtl style=\"direction: rtl; text-align: justify; line-height:200%; font-family:vazir; font-size:medium\">\n",
    "<font color=\"red\"><b color='red'>توجه:</b></font>\n",
    "<font face=\"vazir\" size=3>\n",
    "با توجه به محدودیت‌های ارسال درخواست به مدل و استفاده از <code>API</code> لازم است درخواست‌های خود را مدیریت کنید. به‌طور مثال می‌توانید پس از هر ۱۰ درخواست با استفاده از ماژول <code>sleep</code> در کتابخانه‌ی <code>time</code> در حدود بیشتر از یک دقیقه اجرای کد را متوقف کنید.</font>\n",
    "\n",
    "<h3 align=right style=\"line-height:200%;font-family:vazir;color:#0099cc\">\n",
    "<font face=\"vazir\" color=\"#0099cc\">\n",
    "ساختار پاسخ شما\n",
    "</font>\n",
    "</h3>\n",
    "\n",
    "<p dir=rtl style=\"direction: rtl; text-align: justify; line-height:200%; font-family:vazir; font-size:medium\">\n",
    "<font face=\"vazir\" size=3>\n",
    "در نهایت این پاسخ‌ها را در یک دیتافریم با نام <code>submission</code> و در ستونی با نام <code>answer</code> ذخیره کنید. توجه داشته باشید که ترتیب مقادیر این ستون باید دقیقاً معادل با ترتیب سوالات در لیست <code>questions</code> باشد. به این معنی که ردیف <code>i</code> ام ستون <code>submission</code> باید پاسخی باشد که مدل شما برای سوال ردیف <code>i</code> ام لیست سوالات تولید کرده است.\n",
    "</font>\n",
    "</p>\n",
    "\n",
    "\n",
    "<p dir=rtl style=\"direction: rtl; text-align: justify; line-height:200%; font-family:vazir; font-size:medium\">\n",
    "<font face=\"vazir\" size=3>\n",
    "یک نمونه‌ی فرضی از دیتافریم <code>submission</code> در جدول زیر نمایش داده شده است.\n",
    " </font>\n",
    "</p>\n",
    "\n",
    "<div dir=rtl style=\"direction: rtl;line-height:200%;font-family:vazir;font-size:medium\">\n",
    "<font face=\"vazir\" size=3>\n",
    "<center>\n",
    "\n",
    "|<code>answer</code>|\n",
    "|:------:|\n",
    "|زئوس|\n",
    "|زلزله|\n",
    "|شیر و طاووس|\n",
    "| ... |\n",
    "</center>\n",
    "</font>\n",
    "</div>\n"
   ]
  },
  {
   "cell_type": "code",
   "execution_count": null,
   "metadata": {},
   "outputs": [],
   "source": [
    "import pandas as pd \n",
    "\n",
    "# TODO: Read the file \"questions.csv\" in the \"data\" folder\n",
    "questions = pd.read_csv(None) "
   ]
  },
  {
   "cell_type": "code",
   "execution_count": null,
   "metadata": {},
   "outputs": [],
   "source": [
    "# TODO: Generate an answer for each question in the questions dataframe using the chain.invoke method and add the answers to the \"answer\" column\n",
    "submission = pd.DataFrame(None)"
   ]
  },
  {
   "cell_type": "markdown",
   "metadata": {},
   "source": [
    "<h2 dir=rtl align=right style=\"line-height:200%;font-family:vazir;color:#0099cc\">\n",
    "<font face=\"vazir\" color=\"#0099cc\">\n",
    "نحوه‌ی امتیازدهی\n",
    "</font>\n",
    "</h2>\n",
    "\n",
    "<p dir=rtl style=\"direction: rtl; text-align: justify; line-height:200%; font-family:vazir; font-size:medium\">\n",
    "<font face=\"vazir\">\n",
    "برای آن‌که بتوانید با <span style=\"color:green\">موفقیت</span> امتیاز این پروژه را کسب کنید نیاز است که مدل شما از بین این سوالات حداقل به <u>۸۵ درصد</u> آن‌ها پاسخ درست داده باشد. پاسخ درست براساس وجود کلمه‌ی مورد نظر در پاسخ ارسالی شما ارزیابی خواهد شد. <span style=\"color:red\">توجه</span> داشته باشید که اگر پاسخ مدل شما به‌ازای یک سوال بیشتر از ۵ کلمه باشد آن‌گاه پاسخ مربوطه نادرست محسوب می‌شود.\n",
    "</font>\n",
    "</p>"
   ]
  },
  {
   "cell_type": "markdown",
   "metadata": {},
   "source": [
    "<h2 align=right style=\"line-height:200%;font-family:vazir;color:#0099cc\">\n",
    "<font face=\"vazir\" color=\"#0099cc\">\n",
    "<b>سلول جواب‌ساز</b>\n",
    "</font>\n",
    "</h2>\n",
    "\n",
    "<p dir=rtl style=\"direction: rtl; text-align: justify; line-height:200%; font-family:vazir; font-size:medium\">\n",
    "<font face=\"vazir\">\n",
    "در سلول‌های بعدی فایل‌های پاسخ شما را تولید می‌کنیم تا بتوانید در نهایت یک فایل فشرده با نام <code>result.zip</code> تحویل بگیرید که حاوی فایل‌های مورد نیاز جهت داوری خواهد بود.\n",
    "</font>\n",
    "</p>\n",
    "\n",
    "<p dir=rtl style=\"direction: rtl; text-align: justify; line-height:200%; font-family:vazir; font-size:medium\">\n",
    "<font face=\"vazir\" size=3>\n",
    "    برای ساخته‌شدن فایل <code>result.zip</code> سلول زیر را اجرا کنید. توجه داشته باشید که پیش از اجرای سلول زیر تغییرات اعمال شده در نت‌بوک را ذخیره کرده باشید (<code>ctrl+s</code>) تا در صورت نیاز به پشتیبانی امکان بررسی کد شما وجود داشته باشد. همچنین اگر از گوگل کولب استفاده می‌کنید، در صورت نیاز به پشتیبانی حتماً آخرین نسخه از نت‌بوک را به‌صورت دستی دانلود کرده و داخل فایل ارسالی قرار دهید یا لینک کولب را با ما به‌اشتراک بگذارید.\n",
    "</font>\n",
    "</p>"
   ]
  },
  {
   "cell_type": "code",
   "execution_count": null,
   "metadata": {},
   "outputs": [],
   "source": [
    "import zipfile\n",
    "import os\n",
    "\n",
    "if not os.path.exists(os.path.join(os.getcwd(), 'Olympians.ipynb')):\n",
    "    %notebook -e Olympians.ipynb\n",
    "\n",
    "def compress(file_names): \n",
    "    print(\"File Paths:\")\n",
    "    print(file_names)\n",
    "    compression = zipfile.ZIP_DEFLATED\n",
    "    with zipfile.ZipFile(\"result.zip\", mode=\"w\") as zf:\n",
    "        for file_name in file_names:\n",
    "            zf.write('./' + file_name, file_name, compress_type=compression)\n",
    "\n",
    "configs = {\n",
    "    \"messages\": len(prompt.messages),\n",
    "    \"temperature\": model.temperature\n",
    "}\n",
    "\n",
    "with open('model_configs.json', 'w') as json_file:\n",
    "    json.dump(configs, json_file, indent=4)\n",
    "\n",
    "submission.to_csv('submission.csv', index=False)\n",
    "pd.DataFrame(examples).to_csv('examples.csv', index=False)\n",
    "\n",
    "file_names = ['Olympians.ipynb', 'submission.csv',\n",
    "              'examples.csv','model_configs.json' ]\n",
    "compress(file_names)"
   ]
  },
  {
   "cell_type": "markdown",
   "metadata": {},
   "source": [
    "<p dir=rtl style=\"direction: rtl; text-align: justify; line-height:200%; font-family:vazir; font-size:medium\">\n",
    "<font face=\"vazir\">\n",
    "اکنون کافیست فایل <code>result.zip</code> را داخل سامانه داوری ارسال کنید تا امتیاز شما محاسبه شود.\n",
    "</font>\n",
    "</p>"
   ]
  },
  {
   "cell_type": "markdown",
   "metadata": {},
   "source": [
    "<p dir=rtl align=center style=\"line-height:200%;font-family:vazir;color:#0099cc\">\n",
    "<font face=\"vazir\" color=\"#0099cc\">\n",
    "© <a href=\"https://quera.org/\" target=\"_blank\">کوئرا | Quera</a>\n",
    "</font>\n",
    "</p>"
   ]
  }
 ],
 "metadata": {
  "language_info": {
   "name": "python"
  }
 },
 "nbformat": 4,
 "nbformat_minor": 2
}
